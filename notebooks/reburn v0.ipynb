{
 "cells": [
  {
   "cell_type": "code",
   "execution_count": 0,
   "metadata": {
    "application/vnd.databricks.v1+cell": {
     "cellMetadata": {
      "byteLimit": 2048000,
      "rowLimit": 10000
     },
     "inputWidgets": {},
     "nuid": "ab03540c-6ffa-4ea9-851d-3dc2c28069a8",
     "showTitle": true,
     "title": "install requirements"
    }
   },
   "outputs": [
    {
     "output_type": "stream",
     "name": "stdout",
     "output_type": "stream",
     "text": [
      "Collecting axios\n  Obtaining dependency information for axios from https://files.pythonhosted.org/packages/f9/8b/26c598e8971ee75e14479db4815391e54517a2245a7b4a644107984e9ce0/axios-0.4.0-py3-none-any.whl.metadata\n  Downloading axios-0.4.0-py3-none-any.whl.metadata (6.6 kB)\nCollecting python-jose\n  Obtaining dependency information for python-jose from https://files.pythonhosted.org/packages/bd/2d/e94b2f7bab6773c70efc70a61d66e312e1febccd9e0db6b9e0adf58cbad1/python_jose-3.3.0-py2.py3-none-any.whl.metadata\n  Downloading python_jose-3.3.0-py2.py3-none-any.whl.metadata (5.4 kB)\nRequirement already satisfied: click in /databricks/python3/lib/python3.11/site-packages (from axios) (8.0.4)\nCollecting lxml (from axios)\n  Obtaining dependency information for lxml from https://files.pythonhosted.org/packages/42/07/b29571a58a3a80681722ea8ed0ba569211d9bb8531ad49b5cacf6d409185/lxml-5.3.0-cp311-cp311-manylinux_2_28_x86_64.whl.metadata\n  Downloading lxml-5.3.0-cp311-cp311-manylinux_2_28_x86_64.whl.metadata (3.8 kB)\nRequirement already satisfied: requests in /databricks/python3/lib/python3.11/site-packages (from axios) (2.31.0)\nCollecting rich (from axios)\n  Obtaining dependency information for rich from https://files.pythonhosted.org/packages/b0/11/dadb85e2bd6b1f1ae56669c3e1f0410797f9605d752d68fb47b77f525b31/rich-13.8.1-py3-none-any.whl.metadata\n  Downloading rich-13.8.1-py3-none-any.whl.metadata (18 kB)\nCollecting ecdsa!=0.15 (from python-jose)\n  Obtaining dependency information for ecdsa!=0.15 from https://files.pythonhosted.org/packages/00/e7/ed3243b30d1bec41675b6394a1daae46349dc2b855cb83be846a5a918238/ecdsa-0.19.0-py2.py3-none-any.whl.metadata\n  Downloading ecdsa-0.19.0-py2.py3-none-any.whl.metadata (29 kB)\nRequirement already satisfied: rsa in /databricks/python3/lib/python3.11/site-packages (from python-jose) (4.9)\nRequirement already satisfied: pyasn1 in /databricks/python3/lib/python3.11/site-packages (from python-jose) (0.4.8)\nRequirement already satisfied: six>=1.9.0 in /usr/lib/python3/dist-packages (from ecdsa!=0.15->python-jose) (1.16.0)\nRequirement already satisfied: charset-normalizer<4,>=2 in /databricks/python3/lib/python3.11/site-packages (from requests->axios) (2.0.4)\nRequirement already satisfied: idna<4,>=2.5 in /databricks/python3/lib/python3.11/site-packages (from requests->axios) (3.4)\nRequirement already satisfied: urllib3<3,>=1.21.1 in /databricks/python3/lib/python3.11/site-packages (from requests->axios) (1.26.16)\nRequirement already satisfied: certifi>=2017.4.17 in /databricks/python3/lib/python3.11/site-packages (from requests->axios) (2023.7.22)\nCollecting markdown-it-py>=2.2.0 (from rich->axios)\n  Obtaining dependency information for markdown-it-py>=2.2.0 from https://files.pythonhosted.org/packages/42/d7/1ec15b46af6af88f19b8e5ffea08fa375d433c998b8a7639e76935c14f1f/markdown_it_py-3.0.0-py3-none-any.whl.metadata\n  Downloading markdown_it_py-3.0.0-py3-none-any.whl.metadata (6.9 kB)\nRequirement already satisfied: pygments<3.0.0,>=2.13.0 in /databricks/python3/lib/python3.11/site-packages (from rich->axios) (2.15.1)\nCollecting mdurl~=0.1 (from markdown-it-py>=2.2.0->rich->axios)\n  Obtaining dependency information for mdurl~=0.1 from https://files.pythonhosted.org/packages/b3/38/89ba8ad64ae25be8de66a6d463314cf1eb366222074cfda9ee839c56a4b4/mdurl-0.1.2-py3-none-any.whl.metadata\n  Downloading mdurl-0.1.2-py3-none-any.whl.metadata (1.6 kB)\nDownloading axios-0.4.0-py3-none-any.whl (7.9 kB)\nDownloading python_jose-3.3.0-py2.py3-none-any.whl (33 kB)\nDownloading ecdsa-0.19.0-py2.py3-none-any.whl (149 kB)\n\u001B[?25l   \u001B[90m━━━━━━━━━━━━━━━━━━━━━━━━━━━━━━━━━━━━━━━━\u001B[0m \u001B[32m0.0/149.3 kB\u001B[0m \u001B[31m?\u001B[0m eta \u001B[36m-:--:--\u001B[0m\n\u001B[2K   \u001B[90m━━━━━━━━━━━━━━━━━━━━━━━━━━━━━━━━━━━━━━━━\u001B[0m \u001B[32m149.3/149.3 kB\u001B[0m \u001B[31m13.9 MB/s\u001B[0m eta \u001B[36m0:00:00\u001B[0m\n\u001B[?25hDownloading lxml-5.3.0-cp311-cp311-manylinux_2_28_x86_64.whl (5.0 MB)\n\u001B[?25l   \u001B[90m━━━━━━━━━━━━━━━━━━━━━━━━━━━━━━━━━━━━━━━━\u001B[0m \u001B[32m0.0/5.0 MB\u001B[0m \u001B[31m?\u001B[0m eta \u001B[36m-:--:--\u001B[0m\n\u001B[2K   \u001B[91m━━━━━━━━━━━━━━━━━━━━━━━━━━━━━━━━━━━━━━━\u001B[0m\u001B[91m╸\u001B[0m \u001B[32m5.0/5.0 MB\u001B[0m \u001B[31m170.1 MB/s\u001B[0m eta \u001B[36m0:00:01\u001B[0m\n\u001B[2K   \u001B[90m━━━━━━━━━━━━━━━━━━━━━━━━━━━━━━━━━━━━━━━━\u001B[0m \u001B[32m5.0/5.0 MB\u001B[0m \u001B[31m82.9 MB/s\u001B[0m eta \u001B[36m0:00:00\u001B[0m\n\u001B[?25hDownloading rich-13.8.1-py3-none-any.whl (241 kB)\n\u001B[?25l   \u001B[90m━━━━━━━━━━━━━━━━━━━━━━━━━━━━━━━━━━━━━━━━\u001B[0m \u001B[32m0.0/241.6 kB\u001B[0m \u001B[31m?\u001B[0m eta \u001B[36m-:--:--\u001B[0m\n\u001B[2K   \u001B[90m━━━━━━━━━━━━━━━━━━━━━━━━━━━━━━━━━━━━━━━━\u001B[0m \u001B[32m241.6/241.6 kB\u001B[0m \u001B[31m30.4 MB/s\u001B[0m eta \u001B[36m0:00:00\u001B[0m\n\u001B[?25hDownloading markdown_it_py-3.0.0-py3-none-any.whl (87 kB)\n\u001B[?25l   \u001B[90m━━━━━━━━━━━━━━━━━━━━━━━━━━━━━━━━━━━━━━━━\u001B[0m \u001B[32m0.0/87.5 kB\u001B[0m \u001B[31m?\u001B[0m eta \u001B[36m-:--:--\u001B[0m\n\u001B[2K   \u001B[90m━━━━━━━━━━━━━━━━━━━━━━━━━━━━━━━━━━━━━━━━\u001B[0m \u001B[32m87.5/87.5 kB\u001B[0m \u001B[31m11.8 MB/s\u001B[0m eta \u001B[36m0:00:00\u001B[0m\n\u001B[?25hDownloading mdurl-0.1.2-py3-none-any.whl (10.0 kB)\nInstalling collected packages: mdurl, lxml, ecdsa, python-jose, markdown-it-py, rich, axios\nSuccessfully installed axios-0.4.0 ecdsa-0.19.0 lxml-5.3.0 markdown-it-py-3.0.0 mdurl-0.1.2 python-jose-3.3.0 rich-13.8.1\n\u001B[43mNote: you may need to restart the kernel using %restart_python or dbutils.library.restartPython() to use updated packages.\u001B[0m\n"
     ]
    }
   ],
   "source": [
    "%pip install axios python-jose"
   ]
  },
  {
   "cell_type": "code",
   "execution_count": 0,
   "metadata": {
    "application/vnd.databricks.v1+cell": {
     "cellMetadata": {
      "byteLimit": 2048000,
      "rowLimit": 10000
     },
     "inputWidgets": {},
     "nuid": "0ff74afd-b13d-4f15-9a7e-365225f86986",
     "showTitle": false,
     "title": ""
    }
   },
   "outputs": [],
   "source": [
    "dbutils.library.restartPython()"
   ]
  },
  {
   "cell_type": "code",
   "execution_count": 0,
   "metadata": {
    "application/vnd.databricks.v1+cell": {
     "cellMetadata": {
      "byteLimit": 2048000,
      "rowLimit": 10000
     },
     "inputWidgets": {},
     "nuid": "89687a75-47d0-4f7a-b647-0c0485fe5f24",
     "showTitle": true,
     "title": "environment setup"
    }
   },
   "outputs": [],
   "source": [
    "# TODO: move key file to key vault\n",
    "with open('/Volumes/yamada_dev/redox_fhir/config/private key.pem', 'rb') as f:\n",
    "  private_key = f.read()\n",
    "\n",
    "## TODO: 1. read client id from config and/or secrets; 2. read kid from key file and/or secrets \n",
    "redox_client_id = '40c57cc3-e4b5-4bb5-a19d-a7cc77204fa5'\n",
    "private_key_kid = 'JKMTAeKln8EIpbuNePD7Lm0HM_yUkojryb1tnm2Z7Gc'\n",
    "redox_auth_location = 'https://api.redoxengine.com/v2/auth/token'\n",
    "redox_base_url = 'https://api.redoxengine.com/fhir/R4/redox-fhir-sandbox/Development/'\n",
    "## All Redox FHIR request URLs start with this base: https://api.redoxengine.com/fhir/R4/[organization-name]/[environment-type]/"
   ]
  },
  {
   "cell_type": "code",
   "execution_count": 0,
   "metadata": {
    "application/vnd.databricks.v1+cell": {
     "cellMetadata": {
      "byteLimit": 2048000,
      "rowLimit": 10000
     },
     "inputWidgets": {},
     "nuid": "977ab93c-a8fe-4379-b6c0-9d25212c254d",
     "showTitle": true,
     "title": "seed observation bundle for testing"
    }
   },
   "outputs": [],
   "source": [
    "observation_bundle = \"\"\"{\n",
    "  \"resourceType\": \"Bundle\",\n",
    "  \"type\": \"message\",\n",
    "  \"entry\": [\n",
    "    {\n",
    "      \"resource\": {\n",
    "        \"category\": [\n",
    "          {\n",
    "            \"coding\": [\n",
    "              {\n",
    "                \"code\": \"vital-signs\",\n",
    "                \"display\": \"vital-signs\",\n",
    "                \"system\": \"http://terminology.hl7.org/CodeSystem/observation-category\"\n",
    "              }\n",
    "            ]\n",
    "          }\n",
    "        ],\n",
    "        \"code\": {\n",
    "          \"coding\": [\n",
    "            {\n",
    "              \"code\": \"8302-2\",\n",
    "              \"display\": \"Body Height\",\n",
    "              \"system\": \"http://loinc.org\"\n",
    "            }\n",
    "          ],\n",
    "          \"text\": \"Body Height\"\n",
    "        },\n",
    "        \"effectiveDateTime\": \"2020-12-15T18:06:33-05:00\",\n",
    "        \"id\": \"acbeab78-648d-1ab1-37b9-77d91c528950\",\n",
    "        \"issued\": \"2020-12-15T18:06:33.245-05:00\",\n",
    "        \"meta\": {\n",
    "          \"lastUpdated\": \"2024-07-15T15:38:09.805744+00:00\",\n",
    "          \"profile\": [\n",
    "            \"http://hl7.org/fhir/StructureDefinition/bodyheight\",\n",
    "            \"http://hl7.org/fhir/StructureDefinition/vitalsigns\"\n",
    "          ],\n",
    "          \"versionId\": \"MTcyMTA1Nzg4OTgwNTc0NDAwMA\"\n",
    "        },\n",
    "        \"resourceType\": \"Observation\",\n",
    "        \"status\": \"final\",\n",
    "        \"subject\": {\n",
    "          \"reference\": \"Patient/58117110-ae47-452a-be2c-2d82b3a9e24b\"\n",
    "        },\n",
    "        \"valueQuantity\": {\n",
    "          \"code\": \"cm\",\n",
    "          \"system\": \"http://unitsofmeasure.org\",\n",
    "          \"unit\": \"cm\",\n",
    "          \"value\": 404.2\n",
    "        }\n",
    "      }\n",
    "    }\n",
    "  ]\n",
    "}\"\"\""
   ]
  },
  {
   "cell_type": "code",
   "execution_count": 0,
   "metadata": {
    "application/vnd.databricks.v1+cell": {
     "cellMetadata": {
      "byteLimit": 2048000,
      "rowLimit": 10000
     },
     "inputWidgets": {},
     "nuid": "d369252b-3e02-4393-9819-d3d2ff872f7a",
     "showTitle": true,
     "title": "authentication handler"
    }
   },
   "outputs": [],
   "source": [
    "import datetime\n",
    "import jwt\n",
    "import requests\n",
    "from uuid import uuid4\n",
    "\n",
    "class BackendServiceAuth(requests.auth.AuthBase):\n",
    "\n",
    "  def __init__(self, auth_location, client_id, kid, private_key):\n",
    "    self.auth_location = auth_location\n",
    "    self.client_id = client_id\n",
    "    self.kid = kid\n",
    "    self.private_key = private_key\n",
    "    self.token = None\n",
    "\n",
    "  def __call__(self, request):\n",
    "    if not self.token:\n",
    "      expiration = datetime.datetime.now() + datetime.timedelta(minutes=5)\n",
    "\n",
    "      headers = {\n",
    "        'kid': self.kid,\n",
    "        'alg': 'RS384',\n",
    "        'typ': 'JWT',\n",
    "      }\n",
    "\n",
    "      assertion = jwt.encode(\n",
    "        {\n",
    "          'iss': self.client_id,\n",
    "          'sub': self.client_id,\n",
    "          'aud': self.auth_location,\n",
    "          'exp': int(expiration.strftime('%s')),\n",
    "          'iat': int(datetime.datetime.now().strftime('%s')),\n",
    "          'jti': uuid4().hex,\n",
    "        },\n",
    "        self.private_key,\n",
    "        algorithm='RS384',\n",
    "        headers=headers)\n",
    "\n",
    "      payload = {\n",
    "        'grant_type': 'client_credentials',\n",
    "        'client_assertion_type':\n",
    "        'urn:ietf:params:oauth:client-assertion-type:jwt-bearer',\n",
    "        'client_assertion': assertion\n",
    "      }\n",
    "      try:\n",
    "        response = requests.post(self.auth_location, data=payload, timeout=30)\n",
    "        response.raise_for_status()\n",
    "        self.token = response.json()['access_token']\n",
    "        print(f\"{datetime.datetime.now()} - Authentication successful!\")\n",
    "      except requests.exceptions.RequestException as e:\n",
    "        if hasattr(e, 'response') and e.response is not None:\n",
    "          print(f\"{datetime.datetime.now()} - Request failed with status code: {e.response.status_code}\")\n",
    "          print(f\"{datetime.datetime.now()} - Response body: {e.response.text}\")\n",
    "        else:\n",
    "          print(f\"{datetime.datetime.now()} - Request failed: {e}\")\n",
    "\n",
    "    request.headers['Authorization'] = 'Bearer %s' % self.token\n",
    "    return request"
   ]
  },
  {
   "cell_type": "code",
   "execution_count": 0,
   "metadata": {
    "application/vnd.databricks.v1+cell": {
     "cellMetadata": {
      "byteLimit": 2048000,
      "rowLimit": 10000
     },
     "inputWidgets": {},
     "nuid": "c82aae3a-7f3e-4ad6-8799-ec2517e40bca",
     "showTitle": true,
     "title": "fhir api action execution"
    }
   },
   "outputs": [],
   "source": [
    "def redox_fhir_api_action(client_id, kid, auth_location, private_key, base_url, http_method, resource, interaction, bundle=None):\n",
    "    auth = BackendServiceAuth(auth_location, client_id, kid, private_key)\n",
    "\n",
    "    method = getattr(requests, http_method)\n",
    "\n",
    "    endpoint = resource+'/'+interaction\n",
    "\n",
    "    response = method(base_url+endpoint, auth=auth, data=bundle)\n",
    "    \n",
    "    if response.status_code == 200:\n",
    "        try:\n",
    "            print(f\"{datetime.datetime.now()} - {response.json()}\")\n",
    "        except JSONDecodeError:\n",
    "            print(f\"{datetime.datetime.now()} - Failed to decode JSON from response.\")\n",
    "    else:\n",
    "        print(f\"{datetime.datetime.now()} - Request failed with status code: {response.status_code}\")\n",
    "        print(f\"{datetime.datetime.now()} - Error message from endpoint: {response.text}\")"
   ]
  },
  {
   "cell_type": "code",
   "execution_count": 0,
   "metadata": {
    "application/vnd.databricks.v1+cell": {
     "cellMetadata": {
      "byteLimit": 2048000,
      "rowLimit": 10000
     },
     "inputWidgets": {},
     "nuid": "02e4d064-aa0a-4bf1-bdf9-331621fb358c",
     "showTitle": true,
     "title": "test 1 - patient search"
    }
   },
   "outputs": [
    {
     "output_type": "stream",
     "name": "stdout",
     "output_type": "stream",
     "text": [
      "2024-09-20 17:37:29.684775 - Authentication successful!\n2024-09-20 17:37:30.471389 - {'entry': [{'fullUrl': 'https://fhir.redoxengine.com/fhir-sandbox/Patient/ccfc4db2-2026-7adb-3db0-33f3828140bb', 'resource': {'address': [{'city': 'Peabody', 'country': 'US', 'extension': [{'extension': [{'url': 'latitude', 'valueDecimal': 42.53488867467872}, {'url': 'longitude', 'valueDecimal': -70.9597319140293}], 'url': 'http://hl7.org/fhir/StructureDefinition/geolocation'}], 'line': ['768 Mertz Camp'], 'postalCode': '01940', 'state': 'MA'}], 'birthDate': '1976-06-06', 'communication': [{'language': {'coding': [{'code': 'en-US', 'display': 'English', 'system': 'urn:ietf:bcp:47'}], 'text': 'English'}}], 'extension': [{'extension': [{'url': 'ombCategory', 'valueCoding': {'code': '2106-3', 'display': 'White', 'system': 'urn:oid:2.16.840.1.113883.6.238'}}, {'url': 'text', 'valueString': 'White'}], 'url': 'http://hl7.org/fhir/us/core/StructureDefinition/us-core-race'}, {'extension': [{'url': 'ombCategory', 'valueCoding': {'code': '2186-5', 'display': 'Not Hispanic or Latino', 'system': 'urn:oid:2.16.840.1.113883.6.238'}}, {'url': 'text', 'valueString': 'Not Hispanic or Latino'}], 'url': 'http://hl7.org/fhir/us/core/StructureDefinition/us-core-ethnicity'}, {'url': 'http://hl7.org/fhir/StructureDefinition/patient-mothersMaidenName', 'valueString': 'Lea Upton'}, {'url': 'http://hl7.org/fhir/us/core/StructureDefinition/us-core-birthsex', 'valueCode': 'M'}, {'url': 'http://hl7.org/fhir/StructureDefinition/patient-birthPlace', 'valueAddress': {'city': 'Worcester', 'country': 'US', 'state': 'Massachusetts'}}, {'url': 'http://synthetichealth.github.io/synthea/disability-adjusted-life-years', 'valueDecimal': 0.010168644028808576}, {'url': 'http://synthetichealth.github.io/synthea/quality-adjusted-life-years', 'valueDecimal': 43.98983135597119}], 'gender': 'male', 'id': 'ccfc4db2-2026-7adb-3db0-33f3828140bb', 'identifier': [{'system': 'https://github.com/synthetichealth/synthea', 'value': 'ccfc4db2-2026-7adb-3db0-33f3828140bb'}, {'system': 'http://hospital.smarthealthit.org', 'type': {'coding': [{'code': 'MR', 'display': 'Medical Record Number', 'system': 'http://terminology.hl7.org/CodeSystem/v2-0203'}], 'text': 'Medical Record Number'}, 'value': 'ccfc4db2-2026-7adb-3db0-33f3828140bb'}, {'system': 'http://hl7.org/fhir/sid/us-ssn', 'type': {'coding': [{'code': 'SS', 'display': 'Social Security Number', 'system': 'http://terminology.hl7.org/CodeSystem/v2-0203'}], 'text': 'Social Security Number'}, 'value': '999-19-3890'}, {'system': 'urn:oid:2.16.840.1.113883.4.3.25', 'type': {'coding': [{'code': 'DL', 'display': \"Driver's License\", 'system': 'http://terminology.hl7.org/CodeSystem/v2-0203'}], 'text': \"Driver's License\"}, 'value': 'S99983305'}, {'system': 'http://standardhealthrecord.org/fhir/StructureDefinition/passportNumber', 'type': {'coding': [{'code': 'PPN', 'display': 'Passport Number', 'system': 'http://terminology.hl7.org/CodeSystem/v2-0203'}], 'text': 'Passport Number'}, 'value': 'X29510904X'}], 'maritalStatus': {'coding': [{'code': 'M', 'display': 'M', 'system': 'http://terminology.hl7.org/CodeSystem/v3-MaritalStatus'}], 'text': 'M'}, 'meta': {'lastUpdated': '2024-09-20T08:00:15.753248+00:00', 'profile': ['http://hl7.org/fhir/us/core/StructureDefinition/us-core-patient'], 'versionId': 'MTcyNjgxOTIxNTc1MzI0ODAwMA'}, 'multipleBirthBoolean': False, 'name': [{'family': 'Schmidt', 'given': ['Abe'], 'prefix': ['Mr.'], 'use': 'official'}], 'resourceType': 'Patient', 'telecom': [{'system': 'phone', 'use': 'home', 'value': '555-345-5342'}], 'text': {'div': '<div xmlns=\"http://www.w3.org/1999/xhtml\">Generated by <a href=\"https://github.com/synthetichealth/synthea\">Synthea</a>.Version identifier: master-branch-latest-7-gcc27279b\\n .   Person seed: -4787022384348844445  Population seed: 0</div>', 'status': 'generated'}}, 'search': {'mode': 'match'}}, {'fullUrl': 'https://fhir.redoxengine.com/fhir-sandbox/Patient/346a1435-2455-914f-c287-7b88052d05db', 'resource': {'address': [{'city': 'Framingham', 'country': 'US', 'extension': [{'extension': [{'url': 'latitude', 'valueDecimal': 42.31885511061061}, {'url': 'longitude', 'valueDecimal': -71.40051908597108}], 'url': 'http://hl7.org/fhir/StructureDefinition/geolocation'}], 'line': ['280 Macejkovic Byway Suite 60'], 'postalCode': '01702', 'state': 'MA'}], 'birthDate': '1981-11-16', 'communication': [{'language': {'coding': [{'code': 'hi', 'display': 'Hindi', 'system': 'urn:ietf:bcp:47'}], 'text': 'Hindi'}}], 'extension': [{'extension': [{'url': 'ombCategory', 'valueCoding': {'code': '2028-9', 'display': 'Asian', 'system': 'urn:oid:2.16.840.1.113883.6.238'}}, {'url': 'text', 'valueString': 'Asian'}], 'url': 'http://hl7.org/fhir/us/core/StructureDefinition/us-core-race'}, {'extension': [{'url': 'ombCategory', 'valueCoding': {'code': '2186-5', 'display': 'Not Hispanic or Latino', 'system': 'urn:oid:2.16.840.1.113883.6.238'}}, {'url': 'text', 'valueString': 'Not Hispanic or Latino'}], 'url': 'http://hl7.org/fhir/us/core/StructureDefinition/us-core-ethnicity'}, {'url': 'http://hl7.org/fhir/StructureDefinition/patient-mothersMaidenName', 'valueString': 'Claretta Hoeger'}, {'url': 'http://hl7.org/fhir/us/core/StructureDefinition/us-core-birthsex', 'valueCode': 'F'}, {'url': 'http://hl7.org/fhir/StructureDefinition/patient-birthPlace', 'valueAddress': {'city': 'Ahmedabad', 'country': 'IN', 'state': 'Gujarat'}}, {'url': 'http://synthetichealth.github.io/synthea/disability-adjusted-life-years', 'valueDecimal': 1.0267845698122882}, {'url': 'http://synthetichealth.github.io/synthea/quality-adjusted-life-years', 'valueDecimal': 37.973215430187715}], 'gender': 'female', 'id': '346a1435-2455-914f-c287-7b88052d05db', 'identifier': [{'system': 'https://github.com/synthetichealth/synthea', 'value': '346a1435-2455-914f-c287-7b88052d05db'}, {'system': 'http://hospital.smarthealthit.org', 'type': {'coding': [{'code': 'MR', 'display': 'Medical Record Number', 'system': 'http://terminology.hl7.org/CodeSystem/v2-0203'}], 'text': 'Medical Record Number'}, 'value': '346a1435-2455-914f-c287-7b88052d05db'}, {'system': 'http://hl7.org/fhir/sid/us-ssn', 'type': {'coding': [{'code': 'SS', 'display': 'Social Security Number', 'system': 'http://terminology.hl7.org/CodeSystem/v2-0203'}], 'text': 'Social Security Number'}, 'value': '999-84-2339'}, {'system': 'urn:oid:2.16.840.1.113883.4.3.25', 'type': {'coding': [{'code': 'DL', 'display': \"Driver's License\", 'system': 'http://terminology.hl7.org/CodeSystem/v2-0203'}], 'text': \"Driver's License\"}, 'value': 'S99923024'}, {'system': 'http://standardhealthrecord.org/fhir/StructureDefinition/passportNumber', 'type': {'coding': [{'code': 'PPN', 'display': 'Passport Number', 'system': 'http://terminology.hl7.org/CodeSystem/v2-0203'}], 'text': 'Passport Number'}, 'value': 'X52678817X'}], 'maritalStatus': {'coding': [{'code': 'M', 'display': 'M', 'system': 'http://terminology.hl7.org/CodeSystem/v3-MaritalStatus'}], 'text': 'M'}, 'meta': {'lastUpdated': '2024-09-20T08:00:15.665061+00:00', 'profile': ['http://hl7.org/fhir/us/core/StructureDefinition/us-core-patient'], 'versionId': 'MTcyNjgxOTIxNTY2NTA2MTAwMA'}, 'multipleBirthBoolean': False, 'name': [{'family': 'Pfannerstill', 'given': ['Akiko'], 'prefix': ['Mrs.'], 'use': 'official'}], 'resourceType': 'Patient', 'telecom': [{'system': 'phone', 'use': 'home', 'value': '555-545-5963'}], 'text': {'div': '<div xmlns=\"http://www.w3.org/1999/xhtml\">Generated by <a href=\"https://github.com/synthetichealth/synthea\">Synthea</a>.Version identifier: master-branch-latest-7-gcc27279b\\n .   Person seed: 214993804815738645  Population seed: 0</div>', 'status': 'generated'}}, 'search': {'mode': 'match'}}, {'fullUrl': 'https://fhir.redoxengine.com/fhir-sandbox/Patient/76b289fd-e825-734c-8446-316f59643593', 'resource': {'address': [{'city': 'Boston', 'country': 'US', 'extension': [{'extension': [{'url': 'latitude', 'valueDecimal': 42.377612571458215}, {'url': 'longitude', 'valueDecimal': -71.03044833766708}], 'url': 'http://hl7.org/fhir/StructureDefinition/geolocation'}], 'line': ['733 Bednar Grove Apt 36'], 'postalCode': '02115', 'state': 'MA'}], 'birthDate': '1985-03-03', 'communication': [{'language': {'coding': [{'code': 'en-US', 'display': 'English', 'system': 'urn:ietf:bcp:47'}], 'text': 'English'}}], 'extension': [{'extension': [{'url': 'ombCategory', 'valueCoding': {'code': '2106-3', 'display': 'White', 'system': 'urn:oid:2.16.840.1.113883.6.238'}}, {'url': 'text', 'valueString': 'White'}], 'url': 'http://hl7.org/fhir/us/core/StructureDefinition/us-core-race'}, {'extension': [{'url': 'ombCategory', 'valueCoding': {'code': '2186-5', 'display': 'Not Hispanic or Latino', 'system': 'urn:oid:2.16.840.1.113883.6.238'}}, {'url': 'text', 'valueString': 'Not Hispanic or Latino'}], 'url': 'http://hl7.org/fhir/us/core/StructureDefinition/us-core-ethnicity'}, {'url': 'http://hl7.org/fhir/StructureDefinition/patient-mothersMaidenName', 'valueString': 'Constance Davis'}, {'url': 'http://hl7.org/fhir/us/core/StructureDefinition/us-core-birthsex', 'valueCode': 'F'}, {'url': 'http://hl7.org/fhir/StructureDefinition/patient-birthPlace', 'valueAddress': {'city': 'Weymouth', 'country': 'US', 'state': 'Massachusetts'}}, {'url': 'http://synthetichealth.github.io/synthea/disability-adjusted-life-years', 'valueDecimal': 2.8671452714547447}, {'url': 'http://synthetichealth.github.io/synthea/quality-adjusted-life-years', 'valueDecimal': 32.132854728545254}], 'gender': 'female', 'id': '76b289fd-e825-734c-8446-316f59643593', 'identifier': [{'system': 'https://github.com/synthetichealth/synthea', 'value': '76b289fd-e825-734c-8446-316f59643593'}, {'system': 'http://hospital.smarthealthit.org', 'type': {'coding': [{'code': 'MR', 'display': 'Medical Record Number', 'system': 'http://terminology.hl7.org/CodeSystem/v2-0203'}], 'text': 'Medical Record Number'}, 'value': '76b289fd-e825-734c-8446-316f59643593'}, {'system': 'http://hl7.org/fhir/sid/us-ssn', 'type': {'coding': [{'code': 'SS', 'display': 'Social Security Number', 'system': 'http://terminology.hl7.org/CodeSystem/v2-0203'}], 'text': 'Social Security Number'}, 'value': '999-60-5165'}, {'system': 'urn:oid:2.16.840.1.113883.4.3.25', 'type': {'coding': [{'code': 'DL', 'display': \"Driver's License\", 'system': 'http://terminology.hl7.org/CodeSystem/v2-0203'}], 'text': \"Driver's License\"}, 'value': 'S99923771'}, {'system': 'http://standardhealthrecord.org/fhir/StructureDefinition/passportNumber', 'type': {'coding': [{'code': 'PPN', 'display': 'Passport Number', 'system': 'http://terminology.hl7.org/CodeSystem/v2-0203'}], 'text': 'Passport Number'}, 'value': 'X46712909X'}], 'maritalStatus': {'coding': [{'code': 'M', 'display': 'M', 'system': 'http://terminology.hl7.org/CodeSystem/v3-MaritalStatus'}], 'text': 'M'}, 'meta': {'lastUpdated': '2024-09-20T08:00:15.644754+00:00', 'profile': ['http://hl7.org/fhir/us/core/StructureDefinition/us-core-patient'], 'versionId': 'MTcyNjgxOTIxNTY0NDc1NDAwMA'}, 'multipleBirthBoolean': False, 'name': [{'family': 'Gerhold', 'given': ['Agueda'], 'prefix': ['Mrs.'], 'use': 'official'}], 'resourceType': 'Patient', 'telecom': [{'system': 'phone', 'use': 'home', 'value': '555-831-3391'}], 'text': {'div': '<div xmlns=\"http://www.w3.org/1999/xhtml\">Generated by <a href=\"https://github.com/synthetichealth/synthea\">Synthea</a>.Version identifier: master-branch-latest-7-gcc27279b\\n .   Person seed: -5777773046073082973  Population seed: 0</div>', 'status': 'generated'}}, 'search': {'mode': 'match'}}, {'fullUrl': 'https://fhir.redoxengine.com/fhir-sandbox/Patient/7cf12a8b-3bda-4e21-ae58-a26970b0ac43', 'resource': {'address': [{'city': 'Ahmedabad', 'country': 'United States', 'line': ['Baubaib'], 'postalCode': '380056', 'state': '', 'use': 'home'}], 'birthDate': '2024-07-03', 'gender': 'female', 'generalPractitioner': [{'reference': 'Practitioner/594bfb3a-1cff-41dc-8251-0c20d93346ff'}], 'id': '7cf12a8b-3bda-4e21-ae58-a26970b0ac43', 'identifier': [{'system': 'urn:redox:health-one:MR', 'value': 'c9a92273-507b-4ec3-9814-0219b9bad9dd'}, {'system': 'http://hl7.org/fhir/sid/us-ssn', 'value': 'aaaa'}], 'meta': {'lastUpdated': '2024-09-19T18:58:38.127099+00:00', 'versionId': 'MTcyNjc3MjMxODEyNzA5OTAwMA'}, 'name': [{'family': '3', 'given': ['Ju'], 'use': 'official'}], 'resourceType': 'Patient', 'telecom': [{'system': 'phone', 'use': 'home', 'value': '55555555555'}, {'system': 'email', 'value': 'ju3@yopmail.com'}]}, 'search': {'mode': 'match'}}, {'fullUrl': 'https://fhir.redoxengine.com/fhir-sandbox/Patient/eec8cada-f11f-4b9d-a9da-f8e222510c0a', 'resource': {'address': [{'city': 'Tel Aviv', 'country': 'Israel', 'line': ['Hashalom 25'], 'postalCode': '9045666', 'state': 'State', 'use': 'home'}], 'birthDate': '1997-01-06', 'gender': 'female', 'generalPractitioner': [{'reference': 'Practitioner/1b328143-2971-49c0-9e69-22ae9f64a38e'}], 'id': 'eec8cada-f11f-4b9d-a9da-f8e222510c0a', 'identifier': [{'system': 'urn:redox:health-one:MR', 'value': 'acd3a3e0-1fc3-4268-831d-0f1821e469fa'}, {'system': 'http://hl7.org/fhir/sid/us-ssn', 'value': '45999'}], 'meta': {'lastUpdated': '2024-09-19T15:18:14.677849+00:00', 'versionId': 'MTcyNjc1OTA5NDY3Nzg0OTAwMA'}, 'name': [{'family': 'Nicolas', 'given': ['Andrea'], 'use': 'official'}], 'resourceType': 'Patient', 'telecom': [{'system': 'phone', 'use': 'home', 'value': '056-7483445'}, {'system': 'email', 'value': 'andrea@nicolas.com'}]}, 'search': {'mode': 'match'}}, {'fullUrl': 'https://fhir.redoxengine.com/fhir-sandbox/Patient/0306d006-48d8-4769-9106-fa2041cb8749', 'resource': {'address': [{'city': 'Ahmedabad', 'country': 'India', 'line': ['Ahmedabad'], 'postalCode': '123456', 'state': 'Gujarat', 'use': 'home'}], 'birthDate': '2000-06-01', 'gender': 'male', 'generalPractitioner': [{'reference': 'Practitioner/202882c6-5673-4f3f-b5a8-7f0926b2ac2c'}], 'id': '0306d006-48d8-4769-9106-fa2041cb8749', 'identifier': [{'system': 'urn:redox:health-one:MR', 'value': '068bec8c-d392-436e-a973-fc307bcb0fb5'}, {'system': 'http://hl7.org/fhir/sid/us-ssn', 'value': '12'}], 'meta': {'lastUpdated': '2024-09-19T08:30:27.704381+00:00', 'versionId': 'MTcyNjczNDYyNzcwNDM4MTAwMA'}, 'name': [{'family': 'LastName Test', 'given': ['FirstName Test'], 'use': 'official'}], 'resourceType': 'Patient', 'telecom': [{'system': 'phone', 'use': 'home', 'value': '134678910'}, {'system': 'email', 'value': 'vatsal.arvaan24+1@gmail.com'}]}, 'search': {'mode': 'match'}}, {'fullUrl': 'https://fhir.redoxengine.com/fhir-sandbox/Patient/8348d1e2-8583-4e74-8998-8d45ed93935c', 'resource': {'address': [{'city': 'Ramat Gan', 'country': 'Israel', 'line': ['Bar Yochai 12'], 'postalCode': '5233154', 'state': 'CA', 'use': 'home'}], 'birthDate': '1998-09-18', 'gender': 'female', 'generalPractitioner': [{'reference': 'Practitioner/553040fe-75ae-4cf1-896e-51443769c658'}], 'id': '8348d1e2-8583-4e74-8998-8d45ed93935c', 'identifier': [{'system': 'urn:redox:health-one:MR', 'value': '5f7fa5cf-140a-4610-af51-bbf6575656f2'}, {'system': 'http://hl7.org/fhir/sid/us-ssn', 'value': ''}], 'meta': {'lastUpdated': '2024-09-18T06:37:17.395249+00:00', 'versionId': 'MTcyNjY0MTQzNzM5NTI0OTAwMA'}, 'name': [{'family': 'Eighteenth', 'given': ['September'], 'use': 'official'}], 'resourceType': 'Patient', 'telecom': [{'system': 'phone', 'use': 'home', 'value': '+972 053-926-0225'}, {'system': 'email', 'value': 'ravid+9.18@embieapp.com'}]}, 'search': {'mode': 'match'}}, {'fullUrl': 'https://fhir.redoxengine.com/fhir-sandbox/Patient/b7a3b7b4-e74d-4f32-8a7b-f1e0be2fe508', 'resource': {'active': True, 'address': [{'city': 'LOS ANGELES', 'country': 'USA', 'district': 'Los Angeles', 'line': ['1500 SAN PABLO ST'], 'postalCode': '900335313', 'state': 'CA'}], 'birthDate': '2000-12-12', 'gender': 'male', 'id': 'b7a3b7b4-e74d-4f32-8a7b-f1e0be2fe508', 'identifier': [{'system': 'urn:redox:a893077e-e074-4450-b19f-e73ad0bff3c6:USC%20MRN', 'type': {'coding': [{'_display': {'extension': [{'url': 'http://hl7.org/fhir/StructureDefinition/originalText', 'valueString': 'MRN'}]}, 'code': 'MR', 'display': 'Medical record number', 'system': 'urn:redox:health-one:MR'}], 'text': 'MRN'}, 'value': 'Sept17-300pm'}], 'meta': {'lastUpdated': '2024-09-17T20:04:03.577725+00:00', 'versionId': 'MTcyNjYwMzQ0MzU3NzcyNTAwMA'}, 'name': [{'family': 'TESTLOPEZSept17-300pm', 'given': ['QDOMAIN'], 'text': 'QDOMAIN TESTLOPEZ'}], 'resourceType': 'Patient', 'telecom': [{'system': 'phone', 'use': 'home', 'value': '+16263925091'}, {'system': 'email', 'value': 'josec.lopez@med.usc.edu'}, {'system': 'phone', 'use': 'mobile', 'value': '+16263925091'}]}, 'search': {'mode': 'match'}}, {'fullUrl': 'https://fhir.redoxengine.com/fhir-sandbox/Patient/b0a06ead-cc42-aa48-dad6-841d4aa679fa', 'resource': {'birthDate': '1967-02-17', 'gender': 'male', 'id': 'b0a06ead-cc42-aa48-dad6-841d4aa679fa', 'identifier': [{'system': 'urn:redox:health-one:MR', 'value': '0000000001'}, {'system': 'http://hl7.org/fhir/sid/us-ssn', 'value': '101-01-0001'}], 'meta': {'extension': [{'url': 'https://fhir.redoxengine.com/StructureDefinition/example-sort-order', 'valueInteger': 1}], 'lastUpdated': '2024-09-17T19:02:53.945027+00:00', 'versionId': 'MTcyNjU5OTc3Mzk0NTAyNzAwMA'}, 'name': [{'family': 'Fremont', 'given': ['Anthony'], 'use': 'official'}, {'use': 'usual'}], 'resourceType': 'Patient'}, 'search': {'mode': 'match'}}, {'fullUrl': 'https://fhir.redoxengine.com/fhir-sandbox/Patient/a345f813-cbe2-49e7-b21a-c23c2a134a4c', 'resource': {'address': [{'city': 'That City', 'country': '', 'line': ['This st.'], 'postalCode': '', 'state': '', 'use': 'home'}], 'birthDate': '1985-07-01', 'gender': 'female', 'generalPractitioner': [{'reference': 'Practitioner/78da5169-e9f1-4c0a-bb10-537fa4cf4fc9'}], 'id': 'a345f813-cbe2-49e7-b21a-c23c2a134a4c', 'identifier': [{'system': 'urn:redox:health-one:MR', 'value': '0832e492-5111-4842-a29d-4fee98b67237'}, {'system': 'http://hl7.org/fhir/sid/us-ssn', 'value': '123123'}], 'meta': {'lastUpdated': '2024-09-17T17:47:53.420599+00:00', 'versionId': 'MTcyNjU5NTI3MzQyMDU5OTAwMA'}, 'name': [{'family': 'Test', 'given': ['Alex'], 'use': 'official'}], 'resourceType': 'Patient', 'telecom': [{'system': 'phone', 'use': 'home', 'value': ''}, {'system': 'email', 'value': 'alextext@test.com'}]}, 'search': {'mode': 'match'}}, {'fullUrl': 'https://fhir.redoxengine.com/fhir-sandbox/Patient/b4bc2d9b-0a24-40cb-a72b-942a9f51532f', 'resource': {'address': [{'city': 'Ramat Gan', 'country': 'US', 'line': ['Bar Yochai 12'], 'postalCode': '5233154', 'state': 'CA', 'use': 'home'}], 'birthDate': '1987-09-17', 'gender': 'female', 'generalPractitioner': [{'reference': 'Practitioner/59fdfd03-3d9d-4394-99b3-3c258230eabd'}], 'id': 'b4bc2d9b-0a24-40cb-a72b-942a9f51532f', 'identifier': [{'system': 'urn:redox:health-one:MR', 'value': 'bcda9b1d-cffb-4724-994d-3de55664d535'}, {'system': 'http://hl7.org/fhir/sid/us-ssn', 'value': ''}], 'meta': {'lastUpdated': '2024-09-17T13:38:58.005479+00:00', 'versionId': 'MTcyNjU4MDMzODAwNTQ3OTAwMA'}, 'name': [{'family': 'Seventeenth', 'given': ['September'], 'use': 'official'}], 'resourceType': 'Patient', 'telecom': [{'system': 'phone', 'use': 'home', 'value': '+972 053-926-0225'}, {'system': 'email', 'value': 'ravid+9.17a@embieapp.com'}]}, 'search': {'mode': 'match'}}, {'fullUrl': 'https://fhir.redoxengine.com/fhir-sandbox/Patient/e1a9f29a-0219-49f8-8167-a11d49d332a6', 'resource': {'address': [{'city': 'Ramat Gan', 'country': 'US', 'line': ['Bar Yochai 12'], 'postalCode': '5233154', 'state': 'CA', 'use': 'home'}], 'birthDate': '1986-09-17', 'gender': 'female', 'generalPractitioner': [{'reference': 'Practitioner/59fdfd03-3d9d-4394-99b3-3c258230eabd'}], 'id': 'e1a9f29a-0219-49f8-8167-a11d49d332a6', 'identifier': [{'system': 'urn:redox:health-one:MR', 'value': 'ad249831-0697-4797-9064-d5f425add50b'}, {'system': 'http://hl7.org/fhir/sid/us-ssn', 'value': ''}], 'meta': {'lastUpdated': '2024-09-17T11:51:26.198274+00:00', 'versionId': 'MTcyNjU3Mzg4NjE5ODI3NDAwMA'}, 'name': [{'family': 'Seventeenth Android', 'given': ['September'], 'use': 'official'}], 'resourceType': 'Patient', 'telecom': [{'system': 'phone', 'use': 'home', 'value': '0539260225'}, {'system': 'email', 'value': 'ravid+9.17b@embieapp.com'}]}, 'search': {'mode': 'match'}}, {'fullUrl': 'https://fhir.redoxengine.com/fhir-sandbox/Patient/acc8ddfe-b5b4-4668-94f1-516789d51ab4', 'resource': {'address': [{'city': 'bbbb', 'country': '', 'line': ['aaaa'], 'postalCode': '', 'state': 'CE', 'use': 'home'}], 'birthDate': '1976-10-10', 'gender': 'male', 'id': 'acc8ddfe-b5b4-4668-94f1-516789d51ab4', 'identifier': [{'system': 'urn:redox:health-one:MR', 'value': '98613859-0859-4fad-b131-86ebc7f3b6ee'}, {'system': 'http://hl7.org/fhir/sid/us-ssn', 'value': ''}], 'meta': {'lastUpdated': '2024-09-17T09:11:09.077100+00:00', 'versionId': 'MTcyNjU2NDI2OTA3NzEwMDAwMA'}, 'name': [{'family': 'Johnson', 'given': ['David'], 'use': 'official'}], 'resourceType': 'Patient', 'telecom': [{'system': 'phone', 'use': 'home', 'value': '054-9981484'}, {'system': 'email', 'value': 'ido+469@embieapp.com'}]}, 'search': {'mode': 'match'}}, {'fullUrl': 'https://fhir.redoxengine.com/fhir-sandbox/Patient/558788cf-0d77-45e6-96ab-f7fc821fe723', 'resource': {'address': [{'city': 'Oakland', 'country': 'United States', 'line': ['80 Grand Ave #150'], 'postalCode': '94612', 'state': 'California', 'use': 'home'}], 'birthDate': '1994-11-14', 'gender': 'female', 'generalPractitioner': [{'reference': 'Practitioner/594bfb3a-1cff-41dc-8251-0c20d93346ff'}], 'id': '558788cf-0d77-45e6-96ab-f7fc821fe723', 'identifier': [{'system': 'urn:redox:health-one:MR', 'value': 'd943bf3d-849d-4151-8096-feb398e56a8d'}, {'system': 'http://hl7.org/fhir/sid/us-ssn', 'value': '34'}], 'meta': {'lastUpdated': '2024-09-17T08:56:00.670428+00:00', 'versionId': 'MTcyNjU2MzM2MDY3MDQyODAwMA'}, 'name': [{'family': 'iOS', 'given': ['Dev 07'], 'use': 'official'}], 'resourceType': 'Patient', 'telecom': [{'system': 'phone', 'use': 'home', 'value': '+91 451 334 3413'}, {'system': 'email', 'value': 'devu14@yopmail.com'}]}, 'search': {'mode': 'match'}}, {'fullUrl': 'https://fhir.redoxengine.com/fhir-sandbox/Patient/316cde47-3a76-42e4-a1e6-c176d0c32d79', 'resource': {'address': [{'city': 'Oakland', 'country': 'United States', 'line': ['80 Grand Ave #150'], 'postalCode': '94612', 'state': '', 'use': 'home'}], 'birthDate': '1994-11-17', 'gender': 'female', 'generalPractitioner': [{'reference': 'Practitioner/202882c6-5673-4f3f-b5a8-7f0926b2ac2c'}], 'id': '316cde47-3a76-42e4-a1e6-c176d0c32d79', 'identifier': [{'system': 'urn:redox:health-one:MR', 'value': 'be332e79-fc97-4b64-b364-f23c57a038a5'}, {'system': 'http://hl7.org/fhir/sid/us-ssn', 'value': ''}], 'meta': {'lastUpdated': '2024-09-16T15:00:28.600489+00:00', 'versionId': 'MTcyNjQ5ODgyODYwMDQ4OTAwMA'}, 'name': [{'family': 'Sep', 'given': ['iOS'], 'use': 'official'}], 'resourceType': 'Patient', 'telecom': [{'system': 'phone', 'use': 'home', 'value': '66564545456'}, {'system': 'email', 'value': 'devyani.arvaan+16.9@gmail.com'}]}, 'search': {'mode': 'match'}}, {'fullUrl': 'https://fhir.redoxengine.com/fhir-sandbox/Patient/53a0ad5b-c8a3-4d85-aad2-41021a939b02', 'resource': {'address': [{'city': '', 'country': '', 'line': [''], 'postalCode': '', 'state': '', 'use': 'home'}], 'birthDate': '2020-07-02', 'gender': 'female', 'generalPractitioner': [{'reference': 'Practitioner/59fdfd03-3d9d-4394-99b3-3c258230eabd'}], 'id': '53a0ad5b-c8a3-4d85-aad2-41021a939b02', 'identifier': [{'system': 'urn:redox:health-one:MR', 'value': '7e067d90-0706-4ede-8cdc-1c4386fd5803'}, {'system': 'http://hl7.org/fhir/sid/us-ssn', 'value': ''}], 'meta': {'lastUpdated': '2024-09-16T14:46:47.721815+00:00', 'versionId': 'MTcyNjQ5ODAwNzcyMTgxNTAwMA'}, 'name': [{'family': 'Second', 'given': ['July'], 'use': 'official'}], 'resourceType': 'Patient', 'telecom': [{'system': 'phone', 'use': 'home', 'value': ''}, {'system': 'email', 'value': 'ravid+7.2@embieapp.com'}]}, 'search': {'mode': 'match'}}, {'fullUrl': 'https://fhir.redoxengine.com/fhir-sandbox/Patient/0ba1c5e6-502b-4f49-a97a-26c05e0441f5', 'resource': {'address': [{'city': '', 'country': '', 'line': [''], 'postalCode': '', 'state': '', 'use': 'home'}], 'birthDate': '1976-10-10', 'gender': 'male', 'generalPractitioner': [{'reference': 'Practitioner/e2a67b2e-7451-4c51-a438-1a34b9483cd6'}], 'id': '0ba1c5e6-502b-4f49-a97a-26c05e0441f5', 'identifier': [{'system': 'urn:redox:health-one:MR', 'value': '05d65bd1-ac3a-43ed-bc9a-8cb559be2460'}, {'system': 'http://hl7.org/fhir/sid/us-ssn', 'value': ''}], 'meta': {'lastUpdated': '2024-09-16T11:29:17.753717+00:00', 'versionId': 'MTcyNjQ4NjE1Nzc1MzcxNzAwMA'}, 'name': [{'family': 'bb', 'given': ['aa'], 'use': 'official'}], 'resourceType': 'Patient', 'telecom': [{'system': 'phone', 'use': 'home', 'value': ''}, {'system': 'email', 'value': 'ido+548@embieapp.com'}]}, 'search': {'mode': 'match'}}, {'fullUrl': 'https://fhir.redoxengine.com/fhir-sandbox/Patient/95254c80-5fe3-4594-9755-b14e1e341008', 'resource': {'address': [{'city': 'Best', 'country': 'United States', 'line': ['\n\n*** WARNING: max output size exceeded, skipping output. ***\n\n/us-core-ethnicity'}], 'gender': 'male', 'generalPractitioner': [{'reference': 'Practitioner/5d47225e-c9ea-4759-9c42-3b6f08d95fd5'}], 'id': '5965760d-dd68-4dec-88d2-784689285b1b', 'identifier': [{'system': 'urn:redox:redox-fhir-sandbox:MR', 'value': 'jbbPRy4vpxhoWFwMoZefcL'}, {'system': 'urn:redox:redox-fhir-sandbox:DL', 'use': 'secondary', 'value': 'S99992645'}, {'system': 'urn:redox:redox-fhir-sandbox:PPN', 'use': 'secondary', 'value': 'X25311430X'}, {'system': 'http://hl7.org/fhir/sid/us-ssn', 'use': 'secondary', 'value': '999-83-6245'}], 'maritalStatus': {'coding': [{'code': 'M', 'display': 'Married', 'system': 'http://hl7.org/fhir/v3/MaritalStatus'}], 'text': 'M'}, 'meta': {'lastUpdated': '2024-06-07T19:36:41.274061+00:00', 'versionId': 'MTcxNzc4OTAwMTI3NDA2MTAwMA'}, 'name': [{'family': \"D'Amore\", 'given': ['Colby'], 'use': 'official'}], 'resourceType': 'Patient', 'telecom': [{'system': 'phone', 'use': 'mobile', 'value': '555-669-8483'}, {'system': 'email', 'value': \"Colby.D'Amore-38@syntheamail.com\"}]}, 'search': {'mode': 'match'}}, {'fullUrl': 'https://fhir.redoxengine.com/fhir-sandbox/Patient/5964d688-d7ad-4b5b-8b11-00cc15dc5b8b', 'resource': {'active': True, 'address': [{'city': 'Modesto', 'country': 'US', 'line': ['872 Kris Promenade'], 'state': 'CA', 'use': 'home'}], 'birthDate': '1968-12-01', 'communication': [{'language': {'text': 'English'}}], 'extension': [{'extension': [{'url': 'text', 'valueString': 'White'}], 'url': 'http://hl7.org/fhir/us/core/StructureDefinition/us-core-race'}, {'extension': [{'url': 'ombCategory', 'valueCoding': {'code': '2186-5', 'display': 'Non Hispanic or Latino', 'system': 'urn:oid:2.16.840.1.113883.6.238'}}, {'url': 'text', 'valueString': 'Not Hispanic'}], 'url': 'http://hl7.org/fhir/us/core/StructureDefinition/us-core-ethnicity'}], 'gender': 'male', 'generalPractitioner': [{'reference': 'Practitioner/66aae543-1b1c-4a55-805b-63cc12a9bad1'}], 'id': '5964d688-d7ad-4b5b-8b11-00cc15dc5b8b', 'identifier': [{'system': 'urn:redox:redox-fhir-sandbox:MR', 'value': 'm7JYzLVaXtabpfAuyH2hRS'}, {'system': 'urn:redox:redox-fhir-sandbox:DL', 'use': 'secondary', 'value': 'S99939298'}, {'system': 'urn:redox:redox-fhir-sandbox:PPN', 'use': 'secondary', 'value': 'X33820030X'}, {'system': 'http://hl7.org/fhir/sid/us-ssn', 'use': 'secondary', 'value': '999-45-3951'}], 'maritalStatus': {'coding': [{'code': 'M', 'display': 'Married', 'system': 'http://hl7.org/fhir/v3/MaritalStatus'}], 'text': 'M'}, 'meta': {'lastUpdated': '2024-06-07T19:36:41.271289+00:00', 'versionId': 'MTcxNzc4OTAwMTI3MTI4OTAwMA'}, 'name': [{'family': 'Pagac', 'given': ['Pedro'], 'use': 'official'}], 'resourceType': 'Patient', 'telecom': [{'system': 'phone', 'use': 'mobile', 'value': '555-665-6121'}, {'system': 'email', 'value': 'Pedro.Pagac-49@syntheamail.com'}]}, 'search': {'mode': 'match'}}, {'fullUrl': 'https://fhir.redoxengine.com/fhir-sandbox/Patient/59650011-1adf-42b1-aea2-371930658cf1', 'resource': {'active': True, 'address': [{'city': 'Streamwood', 'country': 'US', 'line': ['760 Medhurst Spur'], 'postalCode': '60194', 'state': 'IL', 'use': 'home'}], 'birthDate': '1963-10-08', 'communication': [{'language': {'text': 'English'}}], 'extension': [{'extension': [{'url': 'text', 'valueString': 'White'}], 'url': 'http://hl7.org/fhir/us/core/StructureDefinition/us-core-race'}, {'extension': [{'url': 'ombCategory', 'valueCoding': {'code': '2186-5', 'display': 'Non Hispanic or Latino', 'system': 'urn:oid:2.16.840.1.113883.6.238'}}, {'url': 'text', 'valueString': 'Not Hispanic'}], 'url': 'http://hl7.org/fhir/us/core/StructureDefinition/us-core-ethnicity'}], 'gender': 'female', 'generalPractitioner': [{'reference': 'Practitioner/fbba7da2-bd35-4da6-a6da-d4b2545cc945'}], 'id': '59650011-1adf-42b1-aea2-371930658cf1', 'identifier': [{'system': 'urn:redox:redox-fhir-sandbox:MR', 'value': 'iKvF3sn5yrHyTTG6E89PuS'}, {'system': 'urn:redox:redox-fhir-sandbox:DL', 'use': 'secondary', 'value': 'S99935406'}, {'system': 'urn:redox:redox-fhir-sandbox:PPN', 'use': 'secondary', 'value': 'X49165430X'}, {'system': 'http://hl7.org/fhir/sid/us-ssn', 'use': 'secondary', 'value': '999-29-3354'}], 'maritalStatus': {'coding': [{'code': 'S', 'display': 'Never Married', 'system': 'http://hl7.org/fhir/v3/MaritalStatus'}], 'text': 'S'}, 'meta': {'lastUpdated': '2024-06-07T19:36:41.263221+00:00', 'versionId': 'MTcxNzc4OTAwMTI2MzIyMTAwMA'}, 'name': [{'family': 'Schoen', 'given': ['Sadye'], 'use': 'official'}], 'resourceType': 'Patient', 'telecom': [{'system': 'phone', 'use': 'home', 'value': '555-617-8253'}, {'system': 'email', 'value': 'Sadye.Schoen-55@syntheamail.com'}]}, 'search': {'mode': 'match'}}, {'fullUrl': 'https://fhir.redoxengine.com/fhir-sandbox/Patient/5964fd13-881e-47ab-aedc-3af4b73bc927', 'resource': {'active': True, 'address': [{'city': 'Newark', 'country': 'US', 'line': ['414 Waters Ranch Unit 88'], 'postalCode': '07112', 'state': 'NJ', 'use': 'home'}], 'birthDate': '1930-03-04', 'communication': [{'language': {'text': 'English'}}], 'extension': [{'extension': [{'url': 'text', 'valueString': 'Black or African American'}], 'url': 'http://hl7.org/fhir/us/core/StructureDefinition/us-core-race'}, {'extension': [{'url': 'ombCategory', 'valueCoding': {'code': '2186-5', 'display': 'Non Hispanic or Latino', 'system': 'urn:oid:2.16.840.1.113883.6.238'}}, {'url': 'text', 'valueString': 'Not Hispanic'}], 'url': 'http://hl7.org/fhir/us/core/StructureDefinition/us-core-ethnicity'}], 'gender': 'male', 'generalPractitioner': [{'reference': 'Practitioner/e3df4b02-08b9-45d1-b539-f5815cb71604'}], 'id': '5964fd13-881e-47ab-aedc-3af4b73bc927', 'identifier': [{'system': 'urn:redox:redox-fhir-sandbox:MR', 'value': 'xAEyccsXTLj1R7Dxr5XFem'}, {'system': 'urn:redox:redox-fhir-sandbox:DL', 'use': 'secondary', 'value': 'S99964068'}, {'system': 'urn:redox:redox-fhir-sandbox:PPN', 'use': 'secondary', 'value': 'X23342531X'}, {'system': 'http://hl7.org/fhir/sid/us-ssn', 'use': 'secondary', 'value': '999-20-9052'}], 'maritalStatus': {'coding': [{'code': 'M', 'display': 'Married', 'system': 'http://hl7.org/fhir/v3/MaritalStatus'}], 'text': 'M'}, 'meta': {'lastUpdated': '2024-06-07T19:36:41.261949+00:00', 'versionId': 'MTcxNzc4OTAwMTI2MTk0OTAwMA'}, 'name': [{'family': 'Gleason', 'given': ['Kirby'], 'use': 'official'}], 'resourceType': 'Patient', 'telecom': [{'system': 'phone', 'use': 'home', 'value': '555-534-9199'}, {'system': 'email', 'value': 'Kirby.Gleason-36@syntheamail.com'}]}, 'search': {'mode': 'match'}}, {'fullUrl': 'https://fhir.redoxengine.com/fhir-sandbox/Patient/5964a3a5-5863-4b39-b2dc-dab7c5465dc7', 'resource': {'active': True, 'address': [{'city': 'Greensboro', 'country': 'US', 'line': ['1075 Feeney Trafficway Suite 11'], 'postalCode': '27405', 'state': 'NC', 'use': 'home'}], 'birthDate': '1927-06-10', 'communication': [{'language': {'text': 'English'}}], 'extension': [{'extension': [{'url': 'text', 'valueString': 'White'}], 'url': 'http://hl7.org/fhir/us/core/StructureDefinition/us-core-race'}, {'extension': [{'url': 'ombCategory', 'valueCoding': {'code': '2186-5', 'display': 'Non Hispanic or Latino', 'system': 'urn:oid:2.16.840.1.113883.6.238'}}, {'url': 'text', 'valueString': 'Not Hispanic'}], 'url': 'http://hl7.org/fhir/us/core/StructureDefinition/us-core-ethnicity'}], 'gender': 'female', 'generalPractitioner': [{'reference': 'Practitioner/9fab6f10-cb9e-44a2-8a7a-c7565b8772ba'}], 'id': '5964a3a5-5863-4b39-b2dc-dab7c5465dc7', 'identifier': [{'system': 'urn:redox:redox-fhir-sandbox:MR', 'value': 'qbz99im1rpUKdZLP54gVBo'}, {'system': 'urn:redox:redox-fhir-sandbox:DL', 'use': 'secondary', 'value': 'S99958399'}, {'system': 'urn:redox:redox-fhir-sandbox:PPN', 'use': 'secondary', 'value': 'X64282448X'}, {'system': 'http://hl7.org/fhir/sid/us-ssn', 'use': 'secondary', 'value': '999-26-6971'}], 'maritalStatus': {'coding': [{'code': 'M', 'display': 'Married', 'system': 'http://hl7.org/fhir/v3/MaritalStatus'}], 'text': 'M'}, 'meta': {'lastUpdated': '2024-06-07T19:36:41.258787+00:00', 'versionId': 'MTcxNzc4OTAwMTI1ODc4NzAwMA'}, 'name': [{'family': 'Kuphal', 'given': ['Loise'], 'use': 'official'}], 'resourceType': 'Patient', 'telecom': [{'system': 'phone', 'use': 'mobile', 'value': '555-324-8823'}, {'system': 'email', 'value': 'Loise.Kuphal-45@syntheamail.com'}]}, 'search': {'mode': 'match'}}, {'fullUrl': 'https://fhir.redoxengine.com/fhir-sandbox/Patient/59645cf8-d900-47b4-a14e-9f4f5a429d52', 'resource': {'active': True, 'address': [{'city': 'Stroudsburg', 'country': 'US', 'line': ['201 Aufderhar Highlands Unit 29'], 'state': 'PA', 'use': 'home'}], 'birthDate': '1964-12-29', 'communication': [{'language': {'text': 'English'}}], 'extension': [{'extension': [{'url': 'text', 'valueString': 'White'}], 'url': 'http://hl7.org/fhir/us/core/StructureDefinition/us-core-race'}, {'extension': [{'url': 'ombCategory', 'valueCoding': {'code': '2186-5', 'display': 'Non Hispanic or Latino', 'system': 'urn:oid:2.16.840.1.113883.6.238'}}, {'url': 'text', 'valueString': 'Not Hispanic'}], 'url': 'http://hl7.org/fhir/us/core/StructureDefinition/us-core-ethnicity'}], 'gender': 'female', 'generalPractitioner': [{'reference': 'Practitioner/e8108e02-0c55-4585-b610-5ed49f20bb84'}], 'id': '59645cf8-d900-47b4-a14e-9f4f5a429d52', 'identifier': [{'system': 'urn:redox:redox-fhir-sandbox:MR', 'value': '9QfsX8Gg6RfSAhn4CiK5xj'}, {'system': 'urn:redox:redox-fhir-sandbox:DL', 'use': 'secondary', 'value': 'S99970996'}, {'system': 'urn:redox:redox-fhir-sandbox:PPN', 'use': 'secondary', 'value': 'X28843700X'}, {'system': 'http://hl7.org/fhir/sid/us-ssn', 'use': 'secondary', 'value': '999-21-5779'}], 'maritalStatus': {'coding': [{'code': 'S', 'display': 'Never Married', 'system': 'http://hl7.org/fhir/v3/MaritalStatus'}], 'text': 'S'}, 'meta': {'lastUpdated': '2024-06-07T19:36:41.257401+00:00', 'versionId': 'MTcxNzc4OTAwMTI1NzQwMTAwMA'}, 'name': [{'family': 'Schowalter', 'given': ['Cherri'], 'use': 'official'}], 'resourceType': 'Patient', 'telecom': [{'system': 'phone', 'use': 'mobile', 'value': '555-391-2258'}, {'system': 'email', 'value': 'Cherri.Schowalter-39@syntheamail.com'}]}, 'search': {'mode': 'match'}}, {'fullUrl': 'https://fhir.redoxengine.com/fhir-sandbox/Patient/59643f77-d7f3-4d56-b115-0791e32dd314', 'resource': {'active': True, 'address': [{'city': 'Riviera Beach', 'country': 'US', 'line': ['295 Mosciski Gardens Unit 90'], 'postalCode': '33403', 'state': 'FL', 'use': 'home'}], 'birthDate': '1947-05-17', 'communication': [{'language': {'text': 'English'}}], 'extension': [{'extension': [{'url': 'text', 'valueString': 'Asian'}], 'url': 'http://hl7.org/fhir/us/core/StructureDefinition/us-core-race'}, {'extension': [{'url': 'ombCategory', 'valueCoding': {'code': '2186-5', 'display': 'Non Hispanic or Latino', 'system': 'urn:oid:2.16.840.1.113883.6.238'}}, {'url': 'text', 'valueString': 'Not Hispanic'}], 'url': 'http://hl7.org/fhir/us/core/StructureDefinition/us-core-ethnicity'}], 'gender': 'male', 'generalPractitioner': [{'reference': 'Practitioner/efb9731a-1c64-48dc-a2af-710966a07e91'}], 'id': '59643f77-d7f3-4d56-b115-0791e32dd314', 'identifier': [{'system': 'urn:redox:redox-fhir-sandbox:MR', 'value': '7RKaD1wu3HD7hsXy8BsH5z'}, {'system': 'urn:redox:redox-fhir-sandbox:DL', 'use': 'secondary', 'value': 'S99988397'}, {'system': 'urn:redox:redox-fhir-sandbox:PPN', 'use': 'secondary', 'value': 'X63535210X'}, {'system': 'http://hl7.org/fhir/sid/us-ssn', 'use': 'secondary', 'value': '999-68-9878'}], 'maritalStatus': {'coding': [{'code': 'M', 'display': 'Married', 'system': 'http://hl7.org/fhir/v3/MaritalStatus'}], 'text': 'M'}, 'meta': {'lastUpdated': '2024-06-07T19:36:41.256909+00:00', 'versionId': 'MTcxNzc4OTAwMTI1NjkwOTAwMA'}, 'name': [{'family': 'Smith', 'given': ['Hershel'], 'use': 'official'}], 'resourceType': 'Patient', 'telecom': [{'system': 'phone', 'use': 'home', 'value': '555-526-4036'}, {'system': 'phone', 'use': 'mobile', 'value': '555-136-6457'}, {'system': 'email', 'value': 'Hershel.Smith-90@syntheamail.com'}]}, 'search': {'mode': 'match'}}, {'fullUrl': 'https://fhir.redoxengine.com/fhir-sandbox/Patient/596435f6-5c8e-41ce-8b02-24b474bb6355', 'resource': {'active': True, 'address': [{'city': 'Clemson', 'country': 'US', 'line': ['406 Douglas Bay Apt 34'], 'postalCode': '29631', 'state': 'SC', 'use': 'home'}], 'birthDate': '2003-11-03', 'communication': [{'language': {'text': 'English'}}], 'extension': [{'extension': [{'url': 'text', 'valueString': 'White'}], 'url': 'http://hl7.org/fhir/us/core/StructureDefinition/us-core-race'}, {'extension': [{'url': 'ombCategory', 'valueCoding': {'code': '2186-5', 'display': 'Non Hispanic or Latino', 'system': 'urn:oid:2.16.840.1.113883.6.238'}}, {'url': 'text', 'valueString': 'Not Hispanic'}], 'url': 'http://hl7.org/fhir/us/core/StructureDefinition/us-core-ethnicity'}], 'gender': 'female', 'generalPractitioner': [{'reference': 'Practitioner/852af546-4da5-4830-a77e-6628d70ff0ce'}], 'id': '596435f6-5c8e-41ce-8b02-24b474bb6355', 'identifier': [{'system': 'urn:redox:redox-fhir-sandbox:MR', 'value': 'bHTP32BqePS1jZcNYe4n4n'}, {'system': 'urn:redox:redox-fhir-sandbox:DL', 'use': 'secondary', 'value': 'S99963973'}, {'system': 'http://hl7.org/fhir/sid/us-ssn', 'use': 'secondary', 'value': '999-28-5699'}], 'maritalStatus': {'coding': [{'code': 'S', 'display': 'Never Married', 'system': 'http://hl7.org/fhir/v3/MaritalStatus'}], 'text': 'Never Married'}, 'meta': {'lastUpdated': '2024-06-07T19:36:41.254304+00:00', 'versionId': 'MTcxNzc4OTAwMTI1NDMwNDAwMA'}, 'name': [{'family': 'Mertz', 'given': ['Lucretia'], 'use': 'official'}], 'resourceType': 'Patient', 'telecom': [{'system': 'phone', 'use': 'mobile', 'value': '555-709-3465'}, {'system': 'email', 'value': 'Lucretia.Mertz-37@syntheamail.com'}]}, 'search': {'mode': 'match'}}, {'fullUrl': 'https://fhir.redoxengine.com/fhir-sandbox/Patient/5963531a-72e6-4f26-9af1-a2dd7c1e3361', 'resource': {'active': True, 'address': [{'city': 'Sumter', 'country': 'US', 'line': ['120 Lakin Park'], 'postalCode': '29040', 'state': 'SC', 'use': 'home'}], 'birthDate': '1986-03-01', 'communication': [{'language': {'text': 'English'}}], 'extension': [{'extension': [{'url': 'text', 'valueString': 'White'}], 'url': 'http://hl7.org/fhir/us/core/StructureDefinition/us-core-race'}, {'extension': [{'url': 'ombCategory', 'valueCoding': {'code': '2186-5', 'display': 'Non Hispanic or Latino', 'system': 'urn:oid:2.16.840.1.113883.6.238'}}, {'url': 'text', 'valueString': 'Not Hispanic'}], 'url': 'http://hl7.org/fhir/us/core/StructureDefinition/us-core-ethnicity'}], 'gender': 'female', 'generalPractitioner': [{'reference': 'Practitioner/984e090d-a71b-42b7-af77-59cb104d16d0'}], 'id': '5963531a-72e6-4f26-9af1-a2dd7c1e3361', 'identifier': [{'system': 'urn:redox:redox-fhir-sandbox:MR', 'value': 'miS6T4w85gnyUraGRgLb57'}, {'system': 'urn:redox:redox-fhir-sandbox:DL', 'use': 'secondary', 'value': 'S99924410'}, {'system': 'urn:redox:redox-fhir-sandbox:PPN', 'use': 'secondary', 'value': 'X28794965X'}, {'system': 'http://hl7.org/fhir/sid/us-ssn', 'use': 'secondary', 'value': '999-80-3110'}], 'maritalStatus': {'coding': [{'code': 'M', 'display': 'Married', 'system': 'http://hl7.org/fhir/v3/MaritalStatus'}], 'text': 'M'}, 'meta': {'lastUpdated': '2024-06-07T19:36:41.245435+00:00', 'versionId': 'MTcxNzc4OTAwMTI0NTQzNTAwMA'}, 'name': [{'family': 'Keebler', 'given': ['Kasi'], 'use': 'official'}], 'resourceType': 'Patient', 'telecom': [{'system': 'phone', 'use': 'home', 'value': '555-641-5103'}, {'system': 'email', 'value': 'Kasi.Keebler-43@syntheamail.com'}]}, 'search': {'mode': 'match'}}, {'fullUrl': 'https://fhir.redoxengine.com/fhir-sandbox/Patient/5962ae0a-04a6-4798-b9ce-37a711715251', 'resource': {'active': True, 'address': [{'city': 'Socorro', 'country': 'US', 'line': ['102 Schaden Estate Unit 31'], 'postalCode': '79849', 'state': 'TX', 'use': 'home'}], 'birthDate': '2007-07-30', 'communication': [{'language': {'text': 'English'}}], 'extension': [{'extension': [{'url': 'text', 'valueString': 'White'}], 'url': 'http://hl7.org/fhir/us/core/StructureDefinition/us-core-race'}, {'extension': [{'url': 'ombCategory', 'valueCoding': {'code': '2135-2', 'display': 'Hispanic or Latino', 'system': 'urn:oid:2.16.840.1.113883.6.238'}}, {'url': 'text', 'valueString': 'Hispanic'}], 'url': 'http://hl7.org/fhir/us/core/StructureDefinition/us-core-ethnicity'}], 'gender': 'male', 'generalPractitioner': [{'reference': 'Practitioner/e6563cb9-c60f-488f-9256-6d4f821a6fc4'}], 'id': '5962ae0a-04a6-4798-b9ce-37a711715251', 'identifier': [{'system': 'urn:redox:redox-fhir-sandbox:MR', 'value': '8ciPXYdwJrLCxzsfdFtUS2'}, {'system': 'http://hl7.org/fhir/sid/us-ssn', 'use': 'secondary', 'value': '999-39-8891'}], 'maritalStatus': {'coding': [{'code': 'S', 'display': 'Never Married', 'system': 'http://hl7.org/fhir/v3/MaritalStatus'}], 'text': 'Never Married'}, 'meta': {'lastUpdated': '2024-06-07T19:36:41.244146+00:00', 'versionId': 'MTcxNzc4OTAwMTI0NDE0NjAwMA'}, 'name': [{'family': 'Batz', 'given': ['Guillermo'], 'use': 'official'}], 'resourceType': 'Patient', 'telecom': [{'system': 'phone', 'use': 'mobile', 'value': '555-923-1554'}, {'system': 'email', 'value': 'Guillermo.Batz-69@syntheamail.com'}]}, 'search': {'mode': 'match'}}, {'fullUrl': 'https://fhir.redoxengine.com/fhir-sandbox/Patient/59626b5f-8315-418a-9cb4-b1ce1251008c', 'resource': {'active': True, 'address': [{'city': 'Poughkeepsie', 'country': 'US', 'line': ['417 Halvorson Loaf Suite 49'], 'state': 'NY', 'use': 'home'}], 'birthDate': '2007-03-25', 'communication': [{'language': {'text': 'English'}}], 'extension': [{'extension': [{'url': 'text', 'valueString': 'White'}], 'url': 'http://hl7.org/fhir/us/core/StructureDefinition/us-core-race'}, {'extension': [{'url': 'ombCategory', 'valueCoding': {'code': '2186-5', 'display': 'Non Hispanic or Latino', 'system': 'urn:oid:2.16.840.1.113883.6.238'}}, {'url': 'text', 'valueString': 'Not Hispanic'}], 'url': 'http://hl7.org/fhir/us/core/StructureDefinition/us-core-ethnicity'}], 'gender': 'female', 'generalPractitioner': [{'reference': 'Practitioner/c8d335a7-09e4-4c63-b425-0325859d5734'}], 'id': '59626b5f-8315-418a-9cb4-b1ce1251008c', 'identifier': [{'system': 'urn:redox:redox-fhir-sandbox:MR', 'value': '9WE7QqJbtwH1oTyyeNB2RP'}, {'system': 'http://hl7.org/fhir/sid/us-ssn', 'use': 'secondary', 'value': '999-23-3354'}], 'maritalStatus': {'coding': [{'code': 'S', 'display': 'Never Married', 'system': 'http://hl7.org/fhir/v3/MaritalStatus'}], 'text': 'Never Married'}, 'meta': {'lastUpdated': '2024-06-07T19:36:41.235415+00:00', 'versionId': 'MTcxNzc4OTAwMTIzNTQxNTAwMA'}, 'name': [{'family': 'Dickinson', 'given': ['Selina'], 'use': 'official'}], 'resourceType': 'Patient', 'telecom': [{'system': 'phone', 'use': 'mobile', 'value': '555-691-1826'}, {'system': 'email', 'value': 'Selina.Dickinson-33@syntheamail.com'}]}, 'search': {'mode': 'match'}}, {'fullUrl': 'https://fhir.redoxengine.com/fhir-sandbox/Patient/595f7b81-6f21-4da4-9af2-5b51b0b4353a', 'resource': {'active': True, 'address': [{'city': 'Bay City', 'country': 'US', 'line': ['197 Thiel Route'], 'state': 'TX', 'use': 'home'}], 'birthDate': '1967-08-28', 'communication': [{'language': {'text': 'English'}}], 'extension': [{'extension': [{'url': 'text', 'valueString': 'Black or African American'}], 'url': 'http://hl7.org/fhir/us/core/StructureDefinition/us-core-race'}, {'extension': [{'url': 'ombCategory', 'valueCoding': {'code': '2186-5', 'display': 'Non Hispanic or Latino', 'system': 'urn:oid:2.16.840.1.113883.6.238'}}, {'url': 'text', 'valueString': 'Not Hispanic'}], 'url': 'http://hl7.org/fhir/us/core/StructureDefinition/us-core-ethnicity'}], 'gender': 'male', 'generalPractitioner': [{'reference': 'Practitioner/ccb8aaf5-db20-4d86-b28b-8d9c1441f5f5'}], 'id': '595f7b81-6f21-4da4-9af2-5b51b0b4353a', 'identifier': [{'system': 'urn:redox:redox-fhir-sandbox:MR', 'value': '6gHqx34iSE3VBKGSTd5KTQ'}, {'system': 'urn:redox:redox-fhir-sandbox:DL', 'use': 'secondary', 'value': 'S99967023'}, {'system': 'urn:redox:redox-fhir-sandbox:PPN', 'use': 'secondary', 'value': 'X24478160X'}, {'system': 'http://hl7.org/fhir/sid/us-ssn', 'use': 'secondary', 'value': '999-87-4797'}], 'maritalStatus': {'coding': [{'code': 'M', 'display': 'Married', 'system': 'http://hl7.org/fhir/v3/MaritalStatus'}], 'text': 'M'}, 'meta': {'lastUpdated': '2024-06-07T19:36:41.235058+00:00', 'versionId': 'MTcxNzc4OTAwMTIzNTA1ODAwMA'}, 'name': [{'family': 'McClure', 'given': ['Felipe'], 'use': 'official'}], 'resourceType': 'Patient', 'telecom': [{'system': 'phone', 'use': 'home', 'value': '555-528-6418'}, {'system': 'phone', 'use': 'mobile', 'value': '555-858-9266'}, {'system': 'email', 'value': 'Felipe.McClure-10@syntheamail.com'}]}, 'search': {'mode': 'match'}}, {'fullUrl': 'https://fhir.redoxengine.com/fhir-sandbox/Patient/59632663-8eb1-442d-9849-031d8d9d82dc', 'resource': {'active': True, 'address': [{'city': 'Austin', 'country': 'US', 'line': ['144 Okuneva Haven Apt 89'], 'postalCode': '78722', 'state': 'TX', 'use': 'home'}], 'birthDate': '1962-07-24', 'communication': [{'language': {'text': 'English'}}], 'extension': [{'extension': [{'url': 'text', 'valueString': 'White'}], 'url': 'http://hl7.org/fhir/us/core/StructureDefinition/us-core-race'}, {'extension': [{'url': 'ombCategory', 'valueCoding': {'code': '2135-2', 'display': 'Hispanic or Latino', 'system': 'urn:oid:2.16.840.1.113883.6.238'}}, {'url': 'text', 'valueString': 'Hispanic'}], 'url': 'http://hl7.org/fhir/us/core/StructureDefinition/us-core-ethnicity'}], 'gender': 'female', 'generalPractitioner': [{'reference': 'Practitioner/5d4ba114-7493-487d-bc79-7c9d7e405b99'}], 'id': '59632663-8eb1-442d-9849-031d8d9d82dc', 'identifier': [{'system': 'urn:redox:redox-fhir-sandbox:MR', 'value': 'p26pHFUx4jEZJnmiGm9RA2'}, {'system': 'urn:redox:redox-fhir-sandbox:DL', 'use': 'secondary', 'value': 'S99970266'}, {'system': 'urn:redox:redox-fhir-sandbox:PPN', 'use': 'secondary', 'value': 'X41234033X'}, {'system': 'http://hl7.org/fhir/sid/us-ssn', 'use': 'secondary', 'value': '999-48-1228'}], 'maritalStatus': {'coding': [{'code': 'M', 'display': 'Married', 'system': 'http://hl7.org/fhir/v3/MaritalStatus'}], 'text': 'M'}, 'meta': {'lastUpdated': '2024-06-07T19:36:41.234269+00:00', 'versionId': 'MTcxNzc4OTAwMTIzNDI2OTAwMA'}, 'name': [{'family': 'Crooks', 'given': ['Mitchell'], 'use': 'official'}], 'resourceType': 'Patient', 'telecom': [{'system': 'phone', 'use': 'mobile', 'value': '555-554-9137'}, {'system': 'email', 'value': 'Mitchell.Crooks-47@syntheamail.com'}]}, 'search': {'mode': 'match'}}, {'fullUrl': 'https://fhir.redoxengine.com/fhir-sandbox/Patient/5962213c-8d56-4350-b2ee-fb070a749fb3', 'resource': {'active': True, 'address': [{'city': 'Galloway', 'country': 'US', 'line': ['1010 Ritchie Well'], 'state': 'NJ', 'use': 'home'}], 'birthDate': '2002-06-09', 'communication': [{'language': {'text': 'English'}}], 'extension': [{'extension': [{'url': 'text', 'valueString': 'White'}], 'url': 'http://hl7.org/fhir/us/core/StructureDefinition/us-core-race'}, {'extension': [{'url': 'ombCategory', 'valueCoding': {'code': '2186-5', 'display': 'Non Hispanic or Latino', 'system': 'urn:oid:2.16.840.1.113883.6.238'}}, {'url': 'text', 'valueString': 'Not Hispanic'}], 'url': 'http://hl7.org/fhir/us/core/StructureDefinition/us-core-ethnicity'}], 'gender': 'female', 'generalPractitioner': [{'reference': 'Practitioner/36b4ecd6-4f07-4646-a882-737569e965f0'}], 'id': '5962213c-8d56-4350-b2ee-fb070a749fb3', 'identifier': [{'system': 'urn:redox:redox-fhir-sandbox:MR', 'value': 'icd7BXBF9Kmzfm8fUj4ukR'}, {'system': 'urn:redox:redox-fhir-sandbox:DL', 'use': 'secondary', 'value': 'S99960408'}, {'system': 'http://hl7.org/fhir/sid/us-ssn', 'use': 'secondary', 'value': '999-48-6512'}], 'maritalStatus': {'coding': [{'code': 'S', 'display': 'Never Married', 'system': 'http://hl7.org/fhir/v3/MaritalStatus'}], 'text': 'Never Married'}, 'meta': {'lastUpdated': '2024-06-07T19:36:41.230903+00:00', 'versionId': 'MTcxNzc4OTAwMTIzMDkwMzAwMA'}, 'name': [{'family': 'Bosco', 'given': ['Lashawnda'], 'use': 'official'}], 'resourceType': 'Patient', 'telecom': [{'system': 'phone', 'use': 'home', 'value': '555-965-1857'}, {'system': 'phone', 'use': 'mobile', 'value': '555-935-6352'}, {'system': 'email', 'value': 'Lashawnda.Bosco-67@syntheamail.com'}]}, 'search': {'mode': 'match'}}], 'link': [{'relation': 'search', 'url': 'https://api.redoxengine.com/fhir/R4/redox-fhir-sandbox/Development/page/Patient/search/e9369937-f1d5-4409-9463-3f95cff73398.search'}, {'relation': 'next', 'url': 'https://api.redoxengine.com/fhir/R4/redox-fhir-sandbox/Development/page/Patient/search/e9369937-f1d5-4409-9463-3f95cff73398.next'}, {'relation': 'first', 'url': 'https://api.redoxengine.com/fhir/R4/redox-fhir-sandbox/Development/page/Patient/search/e9369937-f1d5-4409-9463-3f95cff73398.first'}, {'relation': 'self', 'url': 'https://api.redoxengine.com/fhir/R4/redox-fhir-sandbox/Development/page/Patient/search/e9369937-f1d5-4409-9463-3f95cff73398.self'}], 'resourceType': 'Bundle', 'total': 217342, 'type': 'searchset'}\n"
     ]
    }
   ],
   "source": [
    "redox_fhir_api_action(redox_client_id, private_key_kid, redox_auth_location, private_key, redox_base_url, 'post', 'Patient','_search')"
   ]
  },
  {
   "cell_type": "code",
   "execution_count": 0,
   "metadata": {
    "application/vnd.databricks.v1+cell": {
     "cellMetadata": {
      "byteLimit": 2048000,
      "rowLimit": 10000
     },
     "inputWidgets": {},
     "nuid": "b1c0f23d-91b0-49ee-9297-bc9d1947c622",
     "showTitle": true,
     "title": "test 2 - get patient"
    }
   },
   "outputs": [
    {
     "output_type": "stream",
     "name": "stdout",
     "output_type": "stream",
     "text": [
      "2024-09-20 17:37:45.723558 - Authentication successful!\n2024-09-20 17:37:46.269366 - {'address': [{'city': 'Monroe', 'country': 'US', 'district': 'Greene', 'line': ['4762 Hickory Street'], 'postalCode': '53566', 'state': 'WI', 'use': 'home'}], 'birthDate': '1963-02-02', 'communication': [{'language': {'coding': [{'code': 'en', 'system': 'urn:ietf:bcp:47'}], 'text': 'English'}}], 'contact': [{'address': {'city': 'Monroe', 'country': 'USA', 'district': 'Green', 'line': ['4762 Hickory St.'], 'postalCode': '53566', 'state': 'WI'}, 'name': {'family': 'Bixby', 'given': ['Barbara']}, 'relationship': [{'coding': [{'code': 'MTH', 'display': 'mother', 'system': 'http://terminology.hl7.org/CodeSystem/v3-RoleCode'}], 'text': 'Mother'}, {'coding': [{'code': 'C', 'display': 'Emergency Contact', 'system': 'http://terminology.hl7.org/CodeSystem/v2-0131'}], 'text': 'Emergency Contact'}], 'telecom': [{'system': 'phone', 'use': 'home', 'value': '+18088675303'}, {'system': 'email', 'value': 'barbara.bixby@redoxengine.com'}]}], 'extension': [{'extension': [{'url': 'text', 'valueString': 'White'}], 'url': 'http://hl7.org/fhir/us/core/StructureDefinition/us-core-race'}, {'extension': [{'url': 'ombCategory', 'valueCoding': {'code': '2135-2', 'display': 'Hispanic or Latino', 'system': 'urn:oid:2.16.840.1.113883.6.238'}}, {'url': 'text', 'valueString': 'Hispanic'}], 'url': 'http://hl7.org/fhir/us/core/StructureDefinition/us-core-ethnicity'}], 'gender': 'female', 'id': '58117110-ae47-452a-be2c-2d82b3a9e24b', 'identifier': [{'system': 'urn:redox:health-one:MR', 'value': '0000991458'}, {'system': 'http://hl7.org/fhir/sid/us-ssn', 'value': '547-01-9991'}], 'maritalStatus': {'coding': [{'code': 'M', 'display': 'Married', 'system': 'http://hl7.org/fhir/v3/MaritalStatus'}], 'text': 'Married'}, 'meta': {'extension': [{'url': 'https://fhir.redoxengine.com/StructureDefinition/example-sort-order', 'valueInteger': 1}], 'lastUpdated': '2024-08-21T13:37:17.496626+00:00', 'versionId': 'MTcyNDI0NzQzNzQ5NjYyNjAwMA'}, 'name': [{'family': 'Cleveland', 'given': ['Cathy'], 'use': 'official'}], 'resourceType': 'Patient', 'telecom': [{'system': 'phone', 'use': 'home', 'value': '+18088675301'}, {'system': 'phone', 'use': 'work', 'value': '+18008675309'}, {'system': 'email', 'value': 'timothy.bixby@redoxengine.com'}]}\n"
     ]
    }
   ],
   "source": [
    "redox_fhir_api_action(redox_client_id, private_key_kid, redox_auth_location, private_key, redox_base_url, 'get', 'Patient','58117110-ae47-452a-be2c-2d82b3a9e24b')"
   ]
  },
  {
   "cell_type": "code",
   "execution_count": 0,
   "metadata": {
    "application/vnd.databricks.v1+cell": {
     "cellMetadata": {
      "byteLimit": 2048000,
      "rowLimit": 10000
     },
     "inputWidgets": {},
     "nuid": "6ee14907-5d84-4b7a-8f5d-0c4c6e325898",
     "showTitle": true,
     "title": "critical test 1 - create observation"
    }
   },
   "outputs": [
    {
     "output_type": "stream",
     "name": "stdout",
     "output_type": "stream",
     "text": [
      "2024-09-20 17:38:13.708558 - Authentication successful!\n2024-09-20 17:38:14.307075 - {'entry': [{'response': {'etag': 'W/\"MTcyNjg1Mzg5NDIyODkwODAwMA\"', 'lastModified': '2024-09-20T17:38:14.228908+00:00', 'location': 'https://fhir.redoxengine.com/fhir-sandbox/Observation/2ddc5862-27f4-4663-90c1-0773c337ea48/_history/MTcyNjg1Mzg5NDIyODkwODAwMA', 'status': '201 Created'}}], 'resourceType': 'Bundle', 'type': 'transaction-response'}\n"
     ]
    }
   ],
   "source": [
    "redox_fhir_api_action(redox_client_id, private_key_kid, redox_auth_location, private_key, redox_base_url, 'post', 'Observation','$observation-create', observation_bundle)"
   ]
  },
  {
   "cell_type": "code",
   "execution_count": 0,
   "metadata": {
    "application/vnd.databricks.v1+cell": {
     "cellMetadata": {
      "byteLimit": 2048000,
      "rowLimit": 10000
     },
     "inputWidgets": {},
     "nuid": "38e45d6c-874e-4e9e-9d0c-ca6125c28cde",
     "showTitle": true,
     "title": "critical test 2 - validate observation"
    }
   },
   "outputs": [
    {
     "output_type": "stream",
     "name": "stdout",
     "output_type": "stream",
     "text": [
      "2024-09-20 17:44:42.506150 - Authentication successful!\n2024-09-20 17:44:42.982087 - {'category': [{'coding': [{'code': 'vital-signs', 'display': 'vital-signs', 'system': 'http://terminology.hl7.org/CodeSystem/observation-category'}]}], 'code': {'coding': [{'code': '8302-2', 'display': 'Body Height', 'system': 'http://loinc.org'}], 'text': 'Body Height'}, 'effectiveDateTime': '2020-12-15T18:06:33-05:00', 'id': '2ddc5862-27f4-4663-90c1-0773c337ea48', 'issued': '2020-12-15T18:06:33.245-05:00', 'meta': {'lastUpdated': '2024-09-20T17:38:14.228908+00:00', 'profile': ['http://hl7.org/fhir/StructureDefinition/bodyheight', 'http://hl7.org/fhir/StructureDefinition/vitalsigns'], 'versionId': 'MTcyNjg1Mzg5NDIyODkwODAwMA'}, 'resourceType': 'Observation', 'status': 'final', 'subject': {'reference': 'Patient/58117110-ae47-452a-be2c-2d82b3a9e24b'}, 'valueQuantity': {'code': 'cm', 'system': 'http://unitsofmeasure.org', 'unit': 'cm', 'value': 404.2}}\n"
     ]
    }
   ],
   "source": [
    "redox_fhir_api_action(redox_client_id, private_key_kid, redox_auth_location, private_key, redox_base_url, 'get', 'Observation','2ddc5862-27f4-4663-90c1-0773c337ea48')"
   ]
  },
  {
   "cell_type": "code",
   "execution_count": 0,
   "metadata": {
    "application/vnd.databricks.v1+cell": {
     "cellMetadata": {
      "byteLimit": 2048000,
      "rowLimit": 10000
     },
     "inputWidgets": {},
     "nuid": "7d070b4d-651a-4888-87e8-0149c6781c7a",
     "showTitle": true,
     "title": "critical confusion 1 - post observation bundle to wrong endpoint"
    }
   },
   "outputs": [
    {
     "output_type": "stream",
     "name": "stdout",
     "output_type": "stream",
     "text": [
      "2024-09-20 13:21:46.994412 - Authentication successful!\n2024-09-20 13:21:47.601996 - {'entry': [{'response': {'etag': 'W/\"MTcyNjgzODUwNzQwMDAyMDAwMA\"', 'lastModified': '2024-09-20T13:21:47.400020+00:00', 'location': 'https://fhir.redoxengine.com/fhir-sandbox/Observation/f47516c0-adf5-40ff-8ae0-2e79a60df5ec/_history/MTcyNjgzODUwNzQwMDAyMDAwMA', 'status': '201 Created'}}], 'resourceType': 'Bundle', 'type': 'transaction-response'}\n"
     ]
    }
   ],
   "source": [
    "redox_fhir_api_action(redox_client_id, private_key_kid, redox_auth_location, private_key, redox_base_url, 'post', 'Appointment','$appointment-create', observation_bundle)"
   ]
  },
  {
   "cell_type": "code",
   "execution_count": 0,
   "metadata": {
    "application/vnd.databricks.v1+cell": {
     "cellMetadata": {
      "byteLimit": 2048000,
      "rowLimit": 10000
     },
     "inputWidgets": {},
     "nuid": "67692c73-a4e7-4c73-9b41-c2680ceb7943",
     "showTitle": true,
     "title": "critical confusion 2 - post observation bundle to wrong endpoint"
    }
   },
   "outputs": [
    {
     "output_type": "stream",
     "name": "stdout",
     "output_type": "stream",
     "text": [
      "2024-09-20 13:47:41.008137 - Authentication successful!\n2024-09-20 13:47:41.653674 - {'entry': [{'response': {'etag': 'W/\"MTcyNjg0MDA2MTU0OTQyODAwMA\"', 'lastModified': '2024-09-20T13:47:41.549428+00:00', 'location': 'https://fhir.redoxengine.com/fhir-sandbox/Observation/bf23aa03-9e00-4281-b96c-a2c365bc52c7/_history/MTcyNjg0MDA2MTU0OTQyODAwMA', 'status': '201 Created'}}], 'resourceType': 'Bundle', 'type': 'transaction-response'}\n"
     ]
    }
   ],
   "source": [
    "redox_fhir_api_action(redox_client_id, private_key_kid, redox_auth_location, private_key, redox_base_url, 'post', 'Claim','$submit-preauthorization', observation_bundle)"
   ]
  },
  {
   "cell_type": "code",
   "execution_count": 0,
   "metadata": {
    "application/vnd.databricks.v1+cell": {
     "cellMetadata": {
      "byteLimit": 2048000,
      "rowLimit": 10000
     },
     "inputWidgets": {},
     "nuid": "88aa2f2d-22d6-4e16-a7d8-d875b5d134a0",
     "showTitle": true,
     "title": "critical test 3 - post observation bundle to invalid endpoint"
    }
   },
   "outputs": [
    {
     "output_type": "stream",
     "name": "stdout",
     "output_type": "stream",
     "text": [
      "2024-09-20 14:24:18.138396 - Authentication successful!\n2024-09-20 14:24:18.295569 - Request failed with status code: 400\n2024-09-20 14:24:18.295618 - Error message from endpoint: {\"Meta\":{\"Logs\":[{\"ID\":\"b4265230-17ae-4af0-9356-a5ec5092ed25\",\"AttemptID\":\"97b2411a-2eac-4b94-a281-3840c3ace276\"}],\"Source\":{\"ID\":\"91b0ab2f-7b86-441d-9cbf-9b9a6d648d59\",\"Name\":\"Redox Request Ingress (Development)\"},\"Errors\":[{\"Text\":\"Invalid data model and/or event type.\",\"Type\":\"message\",\"Module\":\"Parser\"}]}}\n"
     ]
    }
   ],
   "source": [
    "redox_fhir_api_action(redox_client_id, private_key_kid, redox_auth_location, private_key, redox_base_url, 'post', 'Observation','$appointment-create', observation_bundle)"
   ]
  },
  {
   "cell_type": "code",
   "execution_count": 0,
   "metadata": {
    "application/vnd.databricks.v1+cell": {
     "cellMetadata": {
      "byteLimit": 2048000,
      "rowLimit": 10000
     },
     "inputWidgets": {},
     "nuid": "6c07a3b2-60e1-4f1c-9de3-36c0aa98889e",
     "showTitle": true,
     "title": "critical test 4 - post observation bundle to fake endpoint"
    }
   },
   "outputs": [
    {
     "output_type": "stream",
     "name": "stdout",
     "output_type": "stream",
     "text": [
      "2024-09-20 14:23:10.648955 - Authentication successful!\n2024-09-20 14:23:10.940295 - Request failed with status code: 404\n2024-09-20 14:23:10.940404 - Error message from endpoint: {\"resourceType\":\"OperationOutcome\",\"issue\":[{\"severity\":\"fatal\",\"code\":\"not-found\",\"details\":{\"coding\":[{\"code\":\"MSG_NO_MODULE\",\"system\":\"http://terminology.hl7.org/CodeSystem/operation-outcome\"}],\"text\":\"Unknown slug redox-fhir-sandbox\"}}]}\n"
     ]
    }
   ],
   "source": [
    "redox_fhir_api_action(redox_client_id, private_key_kid, redox_auth_location, private_key, redox_base_url, 'post', 'Fake','$fake-create', observation_bundle)"
   ]
  },
  {
   "cell_type": "code",
   "execution_count": 0,
   "metadata": {
    "application/vnd.databricks.v1+cell": {
     "cellMetadata": {
      "byteLimit": 2048000,
      "rowLimit": 10000
     },
     "collapsed": true,
     "inputWidgets": {},
     "nuid": "819b73c1-a288-43fc-bd5f-7039c41b23cb",
     "showTitle": true,
     "title": "seed appointment bundle for testing"
    }
   },
   "outputs": [],
   "source": [
    "appointment_bundle = \"\"\"{\n",
    "  \"resourceType\": \"Bundle\",\n",
    "  \"type\": \"message\",\n",
    "  \"entry\": [\n",
    "    {\n",
    "      \"resource\": {\n",
    "        \"comment\": \"This appointment is scheduled for an encounter related to symptoms and reports of violence in the environment.\",\n",
    "        \"created\": \"2021-02-23T08:00:00Z\",\n",
    "        \"description\": \"Appointment for an encounter related to symptoms and reports of violence in the environment\",\n",
    "        \"end\": \"2021-02-24T09:45:03-05:00\",\n",
    "        \"id\": \"ca4006b5-67e7-43c8-ba4e-b5891b6245c4\",\n",
    "        \"identifier\": [\n",
    "          {\n",
    "            \"system\": \"https://github.com/synthetichealth/synthea\",\n",
    "            \"use\": \"official\",\n",
    "            \"value\": \"5b468738-97d5-6172-2060-a9fdda303919\"\n",
    "          }\n",
    "        ],\n",
    "        \"meta\": {\n",
    "          \"lastUpdated\": \"2024-07-15T15:38:08.667364+00:00\",\n",
    "          \"profile\": [\n",
    "            \"http://hl7.org/fhir/us/core/StructureDefinition/us-core-appointment\"\n",
    "          ],\n",
    "          \"versionId\": \"MTcyMTA1Nzg4ODY2NzM2NDAwMA\"\n",
    "        },\n",
    "        \"participant\": [\n",
    "          {\n",
    "            \"actor\": {\n",
    "              \"reference\": \"Patient/58117110-ae47-452a-be2c-2d82b3a9e24b\"\n",
    "            },\n",
    "            \"required\": \"required\",\n",
    "            \"status\": \"accepted\"\n",
    "          },\n",
    "          {\n",
    "            \"actor\": {\n",
    "              \"display\": \"Dr. Lesley Fisher\",\n",
    "              \"reference\": \"Practitioner/3aade15e-5333-3c4e-86c5-aab3511bc8e8\"\n",
    "            },\n",
    "            \"required\": \"required\",\n",
    "            \"status\": \"accepted\"\n",
    "          },\n",
    "          {\n",
    "            \"actor\": {\n",
    "              \"display\": \"MOUNT AUBURN HOSPITAL\",\n",
    "              \"reference\": \"Location/27abf3f3-fa08-31e4-8bca-c4c9ade68709\"\n",
    "            },\n",
    "            \"required\": \"required\",\n",
    "            \"status\": \"accepted\"\n",
    "          }\n",
    "        ],\n",
    "        \"reasonCode\": [\n",
    "          {\n",
    "            \"coding\": [\n",
    "              {\n",
    "                \"code\": \"424393004\",\n",
    "                \"display\": \"Reports of violence in the environment (finding)\",\n",
    "                \"system\": \"http://snomed.info/sct\"\n",
    "              }\n",
    "            ],\n",
    "            \"text\": \"Reports of violence in the environment (finding)\"\n",
    "          }\n",
    "        ],\n",
    "        \"resourceType\": \"Appointment\",\n",
    "        \"serviceCategory\": [\n",
    "          {\n",
    "            \"coding\": [\n",
    "              {\n",
    "                \"code\": \"gp\",\n",
    "                \"display\": \"General Practice\",\n",
    "                \"system\": \"http://terminology.hl7.org/CodeSystem/service-category\"\n",
    "              }\n",
    "            ]\n",
    "          }\n",
    "        ],\n",
    "        \"serviceType\": [\n",
    "          {\n",
    "            \"coding\": [\n",
    "              {\n",
    "                \"code\": \"185345009\",\n",
    "                \"display\": \"Encounter for symptom (procedure)\",\n",
    "                \"system\": \"http://snomed.info/sct\"\n",
    "              }\n",
    "            ],\n",
    "            \"text\": \"Encounter for symptom (procedure)\"\n",
    "          }\n",
    "        ],\n",
    "        \"start\": \"2021-02-24T08:12:16-05:00\",\n",
    "        \"status\": \"booked\"\n",
    "      }\n",
    "    }\n",
    "  ]\n",
    "}\"\"\""
   ]
  },
  {
   "cell_type": "code",
   "execution_count": 0,
   "metadata": {
    "application/vnd.databricks.v1+cell": {
     "cellMetadata": {
      "byteLimit": 2048000,
      "rowLimit": 10000
     },
     "inputWidgets": {},
     "nuid": "0f594a5d-6cda-46c6-89f7-55e4cb9a0fd0",
     "showTitle": true,
     "title": "test 3 - create appointment"
    }
   },
   "outputs": [
    {
     "output_type": "stream",
     "name": "stdout",
     "output_type": "stream",
     "text": [
      "2024-09-20 13:28:08.834086 - Authentication successful!\n2024-09-20 13:28:09.614475 - {'entry': [{'response': {'etag': 'W/\"MTcyNjgzODg4OTQ0MTUzNDAwMA\"', 'lastModified': '2024-09-20T13:28:09.441534+00:00', 'location': 'https://fhir.redoxengine.com/fhir-sandbox/Appointment/ca4006b5-67e7-43c8-ba4e-b5891b6245c4/_history/MTcyNjgzODg4OTQ0MTUzNDAwMA', 'status': '200 OK'}}], 'resourceType': 'Bundle', 'type': 'transaction-response'}\n"
     ]
    }
   ],
   "source": [
    "redox_fhir_api_action(redox_client_id, private_key_kid, redox_auth_location, private_key, redox_base_url, 'post', 'Appointment','$appointment-create', appointment_bundle)"
   ]
  },
  {
   "cell_type": "code",
   "execution_count": 0,
   "metadata": {
    "application/vnd.databricks.v1+cell": {
     "cellMetadata": {
      "byteLimit": 2048000,
      "rowLimit": 10000
     },
     "inputWidgets": {},
     "nuid": "cef55cd5-4bae-4a73-ab1c-0b05ca0b7353",
     "showTitle": true,
     "title": "test 4 - validate appointment"
    }
   },
   "outputs": [
    {
     "output_type": "stream",
     "name": "stdout",
     "output_type": "stream",
     "text": [
      "2024-09-20 13:29:48.950947 - Authentication successful!\n2024-09-20 13:29:49.480791 - {'comment': 'This appointment is scheduled for an encounter related to symptoms and reports of violence in the environment.', 'created': '2021-02-23T08:00:00Z', 'description': 'Appointment for an encounter related to symptoms and reports of violence in the environment', 'end': '2021-02-24T09:45:03-05:00', 'id': 'ca4006b5-67e7-43c8-ba4e-b5891b6245c4', 'identifier': [{'system': 'https://github.com/synthetichealth/synthea', 'use': 'official', 'value': '5b468738-97d5-6172-2060-a9fdda303919'}], 'meta': {'lastUpdated': '2024-09-20T13:28:09.441534+00:00', 'profile': ['http://hl7.org/fhir/us/core/StructureDefinition/us-core-appointment'], 'versionId': 'MTcyNjgzODg4OTQ0MTUzNDAwMA'}, 'participant': [{'actor': {'reference': 'Patient/58117110-ae47-452a-be2c-2d82b3a9e24b'}, 'required': 'required', 'status': 'accepted'}, {'actor': {'display': 'Dr. Lesley Fisher', 'reference': 'Practitioner/3aade15e-5333-3c4e-86c5-aab3511bc8e8'}, 'required': 'required', 'status': 'accepted'}, {'actor': {'display': 'MOUNT AUBURN HOSPITAL', 'reference': 'Location/27abf3f3-fa08-31e4-8bca-c4c9ade68709'}, 'required': 'required', 'status': 'accepted'}], 'reasonCode': [{'coding': [{'code': '424393004', 'display': 'Reports of violence in the environment (finding)', 'system': 'http://snomed.info/sct'}], 'text': 'Reports of violence in the environment (finding)'}], 'resourceType': 'Appointment', 'serviceCategory': [{'coding': [{'code': 'gp', 'display': 'General Practice', 'system': 'http://terminology.hl7.org/CodeSystem/service-category'}]}], 'serviceType': [{'coding': [{'code': '185345009', 'display': 'Encounter for symptom (procedure)', 'system': 'http://snomed.info/sct'}], 'text': 'Encounter for symptom (procedure)'}], 'start': '2021-02-24T08:12:16-05:00', 'status': 'booked'}\n"
     ]
    }
   ],
   "source": [
    "redox_fhir_api_action(redox_client_id, private_key_kid, redox_auth_location, private_key, redox_base_url, 'get', 'Appointment','ca4006b5-67e7-43c8-ba4e-b5891b6245c4')"
   ]
  },
  {
   "cell_type": "code",
   "execution_count": 0,
   "metadata": {
    "application/vnd.databricks.v1+cell": {
     "cellMetadata": {
      "byteLimit": 2048000,
      "rowLimit": 10000
     },
     "inputWidgets": {},
     "nuid": "ccac3a27-19f7-48f2-b4ec-fd94eaad4c36",
     "showTitle": true,
     "title": "test 5 - pass bundle to wrong endpoint"
    }
   },
   "outputs": [
    {
     "output_type": "stream",
     "name": "stdout",
     "output_type": "stream",
     "text": [
      "2024-09-20 14:18:43.645485 - Authentication successful!\n2024-09-20 14:18:44.319374 - {'comment': 'This appointment is scheduled for an encounter related to symptoms and reports of violence in the environment.', 'created': '2021-02-23T08:00:00Z', 'description': 'Appointment for an encounter related to symptoms and reports of violence in the environment', 'end': '2021-02-24T09:45:03-05:00', 'id': 'ca4006b5-67e7-43c8-ba4e-b5891b6245c4', 'identifier': [{'system': 'https://github.com/synthetichealth/synthea', 'use': 'official', 'value': '5b468738-97d5-6172-2060-a9fdda303919'}], 'meta': {'lastUpdated': '2024-09-20T13:28:09.441534+00:00', 'profile': ['http://hl7.org/fhir/us/core/StructureDefinition/us-core-appointment'], 'versionId': 'MTcyNjgzODg4OTQ0MTUzNDAwMA'}, 'participant': [{'actor': {'reference': 'Patient/58117110-ae47-452a-be2c-2d82b3a9e24b'}, 'required': 'required', 'status': 'accepted'}, {'actor': {'display': 'Dr. Lesley Fisher', 'reference': 'Practitioner/3aade15e-5333-3c4e-86c5-aab3511bc8e8'}, 'required': 'required', 'status': 'accepted'}, {'actor': {'display': 'MOUNT AUBURN HOSPITAL', 'reference': 'Location/27abf3f3-fa08-31e4-8bca-c4c9ade68709'}, 'required': 'required', 'status': 'accepted'}], 'reasonCode': [{'coding': [{'code': '424393004', 'display': 'Reports of violence in the environment (finding)', 'system': 'http://snomed.info/sct'}], 'text': 'Reports of violence in the environment (finding)'}], 'resourceType': 'Appointment', 'serviceCategory': [{'coding': [{'code': 'gp', 'display': 'General Practice', 'system': 'http://terminology.hl7.org/CodeSystem/service-category'}]}], 'serviceType': [{'coding': [{'code': '185345009', 'display': 'Encounter for symptom (procedure)', 'system': 'http://snomed.info/sct'}], 'text': 'Encounter for symptom (procedure)'}], 'start': '2021-02-24T08:12:16-05:00', 'status': 'booked'}\n"
     ]
    }
   ],
   "source": [
    "redox_fhir_api_action(redox_client_id, private_key_kid, redox_auth_location, private_key, redox_base_url, 'get', 'Appointment','ca4006b5-67e7-43c8-ba4e-b5891b6245c4', appointment_bundle)"
   ]
  },
  {
   "cell_type": "code",
   "execution_count": 0,
   "metadata": {
    "application/vnd.databricks.v1+cell": {
     "cellMetadata": {
      "byteLimit": 2048000,
      "rowLimit": 10000
     },
     "inputWidgets": {},
     "nuid": "0adf8ec8-46cd-4f4e-8722-acf490e53e9c",
     "showTitle": true,
     "title": "test 6 - post bundle to invalid endpoint"
    }
   },
   "outputs": [
    {
     "output_type": "stream",
     "name": "stdout",
     "output_type": "stream",
     "text": [
      "2024-09-20 14:19:48.598428 - Authentication successful!\n2024-09-20 14:19:48.751858 - Request failed with status code: 404\n2024-09-20 14:19:48.751904 - Error message from endpoint: \n"
     ]
    }
   ],
   "source": [
    "redox_fhir_api_action(redox_client_id, private_key_kid, redox_auth_location, private_key, redox_base_url, 'post', 'Appointment','ca4006b5-67e7-43c8-ba4e-b5891b6245c4', appointment_bundle)"
   ]
  },
  {
   "cell_type": "code",
   "execution_count": 0,
   "metadata": {
    "application/vnd.databricks.v1+cell": {
     "cellMetadata": {
      "byteLimit": 2048000,
      "rowLimit": 10000
     },
     "inputWidgets": {},
     "nuid": "dc3ae7a7-59dd-40ac-8e30-84f3557794ec",
     "showTitle": true,
     "title": "test 7 - post bundle to wrong endpoint"
    }
   },
   "outputs": [
    {
     "output_type": "stream",
     "name": "stdout",
     "output_type": "stream",
     "text": [
      "2024-09-20 15:04:20.963379 - Authentication successful!\n2024-09-20 15:04:21.786483 - {'entry': [{'response': {'etag': 'W/\"MTcyNjg0NDY2MTQ4MzI5MjAwMA\"', 'lastModified': '2024-09-20T15:04:21.483292+00:00', 'location': 'https://fhir.redoxengine.com/fhir-sandbox/Appointment/ca4006b5-67e7-43c8-ba4e-b5891b6245c4/_history/MTcyNjg0NDY2MTQ4MzI5MjAwMA', 'status': '200 OK'}}], 'resourceType': 'Bundle', 'type': 'transaction-response'}\n"
     ]
    }
   ],
   "source": [
    "redox_fhir_api_action(redox_client_id, private_key_kid, redox_auth_location, private_key, redox_base_url, 'post', 'Observation','$observation-create', appointment_bundle)"
   ]
  }
 ],
 "metadata": {
  "application/vnd.databricks.v1+notebook": {
   "dashboards": [],
   "environmentMetadata": null,
   "language": "python",
   "notebookMetadata": {
    "pythonIndentUnit": 2
   },
   "notebookName": "reburn v0",
   "widgets": {}
  }
 },
 "nbformat": 4,
 "nbformat_minor": 0
}
